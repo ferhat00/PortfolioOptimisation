{
 "cells": [
  {
   "cell_type": "markdown",
   "metadata": {},
   "source": [
    "# Mean-variance optimization"
   ]
  },
  {
   "cell_type": "code",
   "execution_count": 1,
   "metadata": {},
   "outputs": [],
   "source": [
    "import numpy as np\n",
    "import pandas as pd\n",
    "import matplotlib.pyplot as plt\n",
    "import glob\n",
    "import os"
   ]
  },
  {
   "cell_type": "markdown",
   "metadata": {},
   "source": [
    "## Downloading data"
   ]
  },
  {
   "cell_type": "code",
   "execution_count": 2,
   "metadata": {},
   "outputs": [],
   "source": [
    "# ALL FILES\n",
    "path = r'C:\\Users\\Ferhat\\Python Code\\Github\\Portfolio_Optimisation\\PortfolioOptimisation\\fund_series'                     # use your path\n",
    "all_files = glob.glob(os.path.join(path, \"*.csv\"))     # advisable to use os.path.join as this makes concatenation OS independent\n",
    "\n",
    "df_from_each_file = (pd.read_csv(f, index_col=False) for f in all_files)\n",
    "concatenated_df   = pd.concat(df_from_each_file, ignore_index=True)"
   ]
  },
  {
   "cell_type": "code",
   "execution_count": 54,
   "metadata": {},
   "outputs": [
    {
     "data": {
      "text/plain": [
       "['C:\\\\Users\\\\Ferhat\\\\Python Code\\\\Github\\\\Portfolio_Optimisation\\\\PortfolioOptimisation\\\\fund_series\\\\Allianz Technology Trust Ord daily.csv',\n",
       " 'C:\\\\Users\\\\Ferhat\\\\Python Code\\\\Github\\\\Portfolio_Optimisation\\\\PortfolioOptimisation\\\\fund_series\\\\Fundsmith Equity I Inc daily.csv',\n",
       " 'C:\\\\Users\\\\Ferhat\\\\Python Code\\\\Github\\\\Portfolio_Optimisation\\\\PortfolioOptimisation\\\\fund_series\\\\GS India Equity R Inc GBP daily.csv',\n",
       " 'C:\\\\Users\\\\Ferhat\\\\Python Code\\\\Github\\\\Portfolio_Optimisation\\\\PortfolioOptimisation\\\\fund_series\\\\HgCapital Trust Ord daily.csv',\n",
       " 'C:\\\\Users\\\\Ferhat\\\\Python Code\\\\Github\\\\Portfolio_Optimisation\\\\PortfolioOptimisation\\\\fund_series\\\\iShares Physical Gold ETC GBP.csv',\n",
       " 'C:\\\\Users\\\\Ferhat\\\\Python Code\\\\Github\\\\Portfolio_Optimisation\\\\PortfolioOptimisation\\\\fund_series\\\\iShares Physical Silver ETC GBP.csv',\n",
       " 'C:\\\\Users\\\\Ferhat\\\\Python Code\\\\Github\\\\Portfolio_Optimisation\\\\PortfolioOptimisation\\\\fund_series\\\\iShares £ Corp Bond 0-5yr ETF GBP Dist.csv',\n",
       " 'C:\\\\Users\\\\Ferhat\\\\Python Code\\\\Github\\\\Portfolio_Optimisation\\\\PortfolioOptimisation\\\\fund_series\\\\JPM Global Macro Opportunities C Net Inc daily.csv',\n",
       " 'C:\\\\Users\\\\Ferhat\\\\Python Code\\\\Github\\\\Portfolio_Optimisation\\\\PortfolioOptimisation\\\\fund_series\\\\JPMorgan China Growth & Income Ord daily.csv',\n",
       " 'C:\\\\Users\\\\Ferhat\\\\Python Code\\\\Github\\\\Portfolio_Optimisation\\\\PortfolioOptimisation\\\\fund_series\\\\Montanaro European Smaller Ord daily.csv',\n",
       " 'C:\\\\Users\\\\Ferhat\\\\Python Code\\\\Github\\\\Portfolio_Optimisation\\\\PortfolioOptimisation\\\\fund_series\\\\Pacific Horizon Ord daily.csv',\n",
       " 'C:\\\\Users\\\\Ferhat\\\\Python Code\\\\Github\\\\Portfolio_Optimisation\\\\PortfolioOptimisation\\\\fund_series\\\\Pictet - Global Envir Opps I dy GBP daily.csv',\n",
       " 'C:\\\\Users\\\\Ferhat\\\\Python Code\\\\Github\\\\Portfolio_Optimisation\\\\PortfolioOptimisation\\\\fund_series\\\\PIMCO GIS Glb Bd Instl GBPH Acc.csv',\n",
       " 'C:\\\\Users\\\\Ferhat\\\\Python Code\\\\Github\\\\Portfolio_Optimisation\\\\PortfolioOptimisation\\\\fund_series\\\\Rathbone Global Opportunities S Acc daily.csv',\n",
       " 'C:\\\\Users\\\\Ferhat\\\\Python Code\\\\Github\\\\Portfolio_Optimisation\\\\PortfolioOptimisation\\\\fund_series\\\\Scottish Mortgage Ord daily.csv',\n",
       " 'C:\\\\Users\\\\Ferhat\\\\Python Code\\\\Github\\\\Portfolio_Optimisation\\\\PortfolioOptimisation\\\\fund_series\\\\Vanguard Em Mkts Stk Idx £ Dist daily.csv']"
      ]
     },
     "execution_count": 54,
     "metadata": {},
     "output_type": "execute_result"
    }
   ],
   "source": [
    "all_files"
   ]
  },
  {
   "cell_type": "code",
   "execution_count": 2,
   "metadata": {},
   "outputs": [
    {
     "data": {
      "text/plain": [
       "['C:\\\\Users\\\\Ferhat\\\\Python Code\\\\Github\\\\Portfolio_Optimisation\\\\PortfolioOptimisation\\\\fund_series\\\\Fundsmith Equity I Inc daily.csv',\n",
       " 'C:\\\\Users\\\\Ferhat\\\\Python Code\\\\Github\\\\Portfolio_Optimisation\\\\PortfolioOptimisation\\\\fund_series\\\\JPM Global Macro Opportunities C Net Inc daily.csv',\n",
       " 'C:\\\\Users\\\\Ferhat\\\\Python Code\\\\Github\\\\Portfolio_Optimisation\\\\PortfolioOptimisation\\\\fund_series\\\\Scottish Mortgage Ord daily.csv']"
      ]
     },
     "execution_count": 2,
     "metadata": {},
     "output_type": "execute_result"
    }
   ],
   "source": [
    "# SOME FILES\n",
    "path = r'C:\\Users\\Ferhat\\Python Code\\Github\\Portfolio_Optimisation\\PortfolioOptimisation\\fund_series'                     # use your path\n",
    "all_files = glob.glob(os.path.join(path, \"*.csv\"))     # advisable to use os.path.join as this makes concatenation OS independent\n",
    "#sub_files = all_files[1, 3, 4, 7, 8, 13, 14]\n",
    "\n",
    "indices = [1, 7, 14]\n",
    "sub_files = []\n",
    "\n",
    "for index in indices:\n",
    "    sub_files.append(all_files[index])\n",
    "\n",
    "df_from_each_file = (pd.read_csv(f, index_col=False) for f in sub_files)\n",
    "concatenated_df   = pd.concat(df_from_each_file, ignore_index=True)\n",
    "sub_files"
   ]
  },
  {
   "cell_type": "code",
   "execution_count": 3,
   "metadata": {},
   "outputs": [],
   "source": [
    "concatenated_df.drop([ 'High', 'Low', 'Open', 'Volume'], axis=1, inplace=True)"
   ]
  },
  {
   "cell_type": "code",
   "execution_count": 4,
   "metadata": {},
   "outputs": [],
   "source": [
    "concatenated_df['Close'] = concatenated_df['Close'].fillna(concatenated_df['NAV'])"
   ]
  },
  {
   "cell_type": "code",
   "execution_count": 5,
   "metadata": {},
   "outputs": [],
   "source": [
    "concatenated_df.drop(['NAV'], axis=1, inplace=True)"
   ]
  },
  {
   "cell_type": "code",
   "execution_count": 6,
   "metadata": {},
   "outputs": [
    {
     "data": {
      "text/html": [
       "<div>\n",
       "<style scoped>\n",
       "    .dataframe tbody tr th:only-of-type {\n",
       "        vertical-align: middle;\n",
       "    }\n",
       "\n",
       "    .dataframe tbody tr th {\n",
       "        vertical-align: top;\n",
       "    }\n",
       "\n",
       "    .dataframe thead th {\n",
       "        text-align: right;\n",
       "    }\n",
       "</style>\n",
       "<table border=\"1\" class=\"dataframe\">\n",
       "  <thead>\n",
       "    <tr style=\"text-align: right;\">\n",
       "      <th></th>\n",
       "      <th>Date</th>\n",
       "      <th>Name</th>\n",
       "      <th>Close</th>\n",
       "    </tr>\n",
       "  </thead>\n",
       "  <tbody>\n",
       "    <tr>\n",
       "      <th>0</th>\n",
       "      <td>11/01/2010</td>\n",
       "      <td>Fundsmith Equity I Inc</td>\n",
       "      <td>1.0000</td>\n",
       "    </tr>\n",
       "    <tr>\n",
       "      <th>1</th>\n",
       "      <td>11/02/2010</td>\n",
       "      <td>Fundsmith Equity I Inc</td>\n",
       "      <td>0.9992</td>\n",
       "    </tr>\n",
       "    <tr>\n",
       "      <th>2</th>\n",
       "      <td>11/03/2010</td>\n",
       "      <td>Fundsmith Equity I Inc</td>\n",
       "      <td>1.0003</td>\n",
       "    </tr>\n",
       "    <tr>\n",
       "      <th>3</th>\n",
       "      <td>11/04/2010</td>\n",
       "      <td>Fundsmith Equity I Inc</td>\n",
       "      <td>1.0049</td>\n",
       "    </tr>\n",
       "    <tr>\n",
       "      <th>4</th>\n",
       "      <td>11/05/2010</td>\n",
       "      <td>Fundsmith Equity I Inc</td>\n",
       "      <td>1.0086</td>\n",
       "    </tr>\n",
       "    <tr>\n",
       "      <th>...</th>\n",
       "      <td>...</td>\n",
       "      <td>...</td>\n",
       "      <td>...</td>\n",
       "    </tr>\n",
       "    <tr>\n",
       "      <th>26738</th>\n",
       "      <td>01/17/2022</td>\n",
       "      <td>Scottish Mortgage Ord</td>\n",
       "      <td>11.4950</td>\n",
       "    </tr>\n",
       "    <tr>\n",
       "      <th>26739</th>\n",
       "      <td>01/18/2022</td>\n",
       "      <td>Scottish Mortgage Ord</td>\n",
       "      <td>11.1850</td>\n",
       "    </tr>\n",
       "    <tr>\n",
       "      <th>26740</th>\n",
       "      <td>01/19/2022</td>\n",
       "      <td>Scottish Mortgage Ord</td>\n",
       "      <td>11.1800</td>\n",
       "    </tr>\n",
       "    <tr>\n",
       "      <th>26741</th>\n",
       "      <td>01/20/2022</td>\n",
       "      <td>Scottish Mortgage Ord</td>\n",
       "      <td>11.5400</td>\n",
       "    </tr>\n",
       "    <tr>\n",
       "      <th>26742</th>\n",
       "      <td>01/21/2022</td>\n",
       "      <td>Scottish Mortgage Ord</td>\n",
       "      <td>11.0950</td>\n",
       "    </tr>\n",
       "  </tbody>\n",
       "</table>\n",
       "<p>26743 rows × 3 columns</p>\n",
       "</div>"
      ],
      "text/plain": [
       "             Date                    Name    Close\n",
       "0      11/01/2010  Fundsmith Equity I Inc   1.0000\n",
       "1      11/02/2010  Fundsmith Equity I Inc   0.9992\n",
       "2      11/03/2010  Fundsmith Equity I Inc   1.0003\n",
       "3      11/04/2010  Fundsmith Equity I Inc   1.0049\n",
       "4      11/05/2010  Fundsmith Equity I Inc   1.0086\n",
       "...           ...                     ...      ...\n",
       "26738  01/17/2022   Scottish Mortgage Ord  11.4950\n",
       "26739  01/18/2022   Scottish Mortgage Ord  11.1850\n",
       "26740  01/19/2022   Scottish Mortgage Ord  11.1800\n",
       "26741  01/20/2022   Scottish Mortgage Ord  11.5400\n",
       "26742  01/21/2022   Scottish Mortgage Ord  11.0950\n",
       "\n",
       "[26743 rows x 3 columns]"
      ]
     },
     "execution_count": 6,
     "metadata": {},
     "output_type": "execute_result"
    }
   ],
   "source": [
    "concatenated_df"
   ]
  },
  {
   "cell_type": "code",
   "execution_count": 7,
   "metadata": {},
   "outputs": [
    {
     "data": {
      "text/plain": [
       "array(['Fundsmith Equity I Inc',\n",
       "       'JPM Global Macro Opportunities C Net Inc',\n",
       "       'Scottish Mortgage Ord'], dtype=object)"
      ]
     },
     "execution_count": 7,
     "metadata": {},
     "output_type": "execute_result"
    }
   ],
   "source": [
    "concatenated_df['Name'].unique()"
   ]
  },
  {
   "cell_type": "code",
   "execution_count": 8,
   "metadata": {},
   "outputs": [],
   "source": [
    "concatenated_df_pivot = concatenated_df.pivot(columns='Name', values='Close', index='Date')\n"
   ]
  },
  {
   "cell_type": "code",
   "execution_count": 9,
   "metadata": {},
   "outputs": [
    {
     "data": {
      "text/html": [
       "<div>\n",
       "<style scoped>\n",
       "    .dataframe tbody tr th:only-of-type {\n",
       "        vertical-align: middle;\n",
       "    }\n",
       "\n",
       "    .dataframe tbody tr th {\n",
       "        vertical-align: top;\n",
       "    }\n",
       "\n",
       "    .dataframe thead th {\n",
       "        text-align: right;\n",
       "    }\n",
       "</style>\n",
       "<table border=\"1\" class=\"dataframe\">\n",
       "  <thead>\n",
       "    <tr style=\"text-align: right;\">\n",
       "      <th>Name</th>\n",
       "      <th>Fundsmith Equity I Inc</th>\n",
       "      <th>JPM Global Macro Opportunities C Net Inc</th>\n",
       "      <th>Scottish Mortgage Ord</th>\n",
       "    </tr>\n",
       "    <tr>\n",
       "      <th>Date</th>\n",
       "      <th></th>\n",
       "      <th></th>\n",
       "      <th></th>\n",
       "    </tr>\n",
       "  </thead>\n",
       "  <tbody>\n",
       "    <tr>\n",
       "      <th>01/01/1969</th>\n",
       "      <td>NaN</td>\n",
       "      <td>NaN</td>\n",
       "      <td>0.04852</td>\n",
       "    </tr>\n",
       "    <tr>\n",
       "      <th>01/01/1970</th>\n",
       "      <td>NaN</td>\n",
       "      <td>NaN</td>\n",
       "      <td>0.03852</td>\n",
       "    </tr>\n",
       "    <tr>\n",
       "      <th>01/01/1971</th>\n",
       "      <td>NaN</td>\n",
       "      <td>NaN</td>\n",
       "      <td>0.03852</td>\n",
       "    </tr>\n",
       "    <tr>\n",
       "      <th>01/01/1972</th>\n",
       "      <td>NaN</td>\n",
       "      <td>NaN</td>\n",
       "      <td>0.05000</td>\n",
       "    </tr>\n",
       "    <tr>\n",
       "      <th>01/01/1973</th>\n",
       "      <td>NaN</td>\n",
       "      <td>NaN</td>\n",
       "      <td>0.05000</td>\n",
       "    </tr>\n",
       "    <tr>\n",
       "      <th>...</th>\n",
       "      <td>...</td>\n",
       "      <td>...</td>\n",
       "      <td>...</td>\n",
       "    </tr>\n",
       "    <tr>\n",
       "      <th>12/31/2017</th>\n",
       "      <td>3.3626</td>\n",
       "      <td>1.463</td>\n",
       "      <td>4.49000</td>\n",
       "    </tr>\n",
       "    <tr>\n",
       "      <th>12/31/2018</th>\n",
       "      <td>3.4182</td>\n",
       "      <td>1.430</td>\n",
       "      <td>4.66950</td>\n",
       "    </tr>\n",
       "    <tr>\n",
       "      <th>12/31/2019</th>\n",
       "      <td>4.2682</td>\n",
       "      <td>1.449</td>\n",
       "      <td>5.79000</td>\n",
       "    </tr>\n",
       "    <tr>\n",
       "      <th>12/31/2020</th>\n",
       "      <td>5.0292</td>\n",
       "      <td>1.646</td>\n",
       "      <td>12.14000</td>\n",
       "    </tr>\n",
       "    <tr>\n",
       "      <th>12/31/2021</th>\n",
       "      <td>6.1284</td>\n",
       "      <td>1.734</td>\n",
       "      <td>13.37500</td>\n",
       "    </tr>\n",
       "  </tbody>\n",
       "</table>\n",
       "<p>19380 rows × 3 columns</p>\n",
       "</div>"
      ],
      "text/plain": [
       "Name        Fundsmith Equity I Inc  JPM Global Macro Opportunities C Net Inc  \\\n",
       "Date                                                                           \n",
       "01/01/1969                     NaN                                       NaN   \n",
       "01/01/1970                     NaN                                       NaN   \n",
       "01/01/1971                     NaN                                       NaN   \n",
       "01/01/1972                     NaN                                       NaN   \n",
       "01/01/1973                     NaN                                       NaN   \n",
       "...                            ...                                       ...   \n",
       "12/31/2017                  3.3626                                     1.463   \n",
       "12/31/2018                  3.4182                                     1.430   \n",
       "12/31/2019                  4.2682                                     1.449   \n",
       "12/31/2020                  5.0292                                     1.646   \n",
       "12/31/2021                  6.1284                                     1.734   \n",
       "\n",
       "Name        Scottish Mortgage Ord  \n",
       "Date                               \n",
       "01/01/1969                0.04852  \n",
       "01/01/1970                0.03852  \n",
       "01/01/1971                0.03852  \n",
       "01/01/1972                0.05000  \n",
       "01/01/1973                0.05000  \n",
       "...                           ...  \n",
       "12/31/2017                4.49000  \n",
       "12/31/2018                4.66950  \n",
       "12/31/2019                5.79000  \n",
       "12/31/2020               12.14000  \n",
       "12/31/2021               13.37500  \n",
       "\n",
       "[19380 rows x 3 columns]"
      ]
     },
     "execution_count": 9,
     "metadata": {},
     "output_type": "execute_result"
    }
   ],
   "source": [
    "concatenated_df_pivot"
   ]
  },
  {
   "cell_type": "code",
   "execution_count": 10,
   "metadata": {},
   "outputs": [],
   "source": [
    "concatenated_df_pivot = concatenated_df_pivot.sort_values(by=\"Date\", key=pd.to_datetime)"
   ]
  },
  {
   "cell_type": "code",
   "execution_count": 11,
   "metadata": {},
   "outputs": [
    {
     "data": {
      "text/html": [
       "<div>\n",
       "<style scoped>\n",
       "    .dataframe tbody tr th:only-of-type {\n",
       "        vertical-align: middle;\n",
       "    }\n",
       "\n",
       "    .dataframe tbody tr th {\n",
       "        vertical-align: top;\n",
       "    }\n",
       "\n",
       "    .dataframe thead th {\n",
       "        text-align: right;\n",
       "    }\n",
       "</style>\n",
       "<table border=\"1\" class=\"dataframe\">\n",
       "  <thead>\n",
       "    <tr style=\"text-align: right;\">\n",
       "      <th>Name</th>\n",
       "      <th>Fundsmith Equity I Inc</th>\n",
       "      <th>JPM Global Macro Opportunities C Net Inc</th>\n",
       "      <th>Scottish Mortgage Ord</th>\n",
       "    </tr>\n",
       "    <tr>\n",
       "      <th>Date</th>\n",
       "      <th></th>\n",
       "      <th></th>\n",
       "      <th></th>\n",
       "    </tr>\n",
       "  </thead>\n",
       "  <tbody>\n",
       "    <tr>\n",
       "      <th>12/31/1968</th>\n",
       "      <td>NaN</td>\n",
       "      <td>NaN</td>\n",
       "      <td>0.04852</td>\n",
       "    </tr>\n",
       "    <tr>\n",
       "      <th>01/01/1969</th>\n",
       "      <td>NaN</td>\n",
       "      <td>NaN</td>\n",
       "      <td>0.04852</td>\n",
       "    </tr>\n",
       "    <tr>\n",
       "      <th>01/02/1969</th>\n",
       "      <td>NaN</td>\n",
       "      <td>NaN</td>\n",
       "      <td>0.04852</td>\n",
       "    </tr>\n",
       "    <tr>\n",
       "      <th>01/03/1969</th>\n",
       "      <td>NaN</td>\n",
       "      <td>NaN</td>\n",
       "      <td>0.04852</td>\n",
       "    </tr>\n",
       "    <tr>\n",
       "      <th>01/04/1969</th>\n",
       "      <td>NaN</td>\n",
       "      <td>NaN</td>\n",
       "      <td>0.04852</td>\n",
       "    </tr>\n",
       "    <tr>\n",
       "      <th>...</th>\n",
       "      <td>...</td>\n",
       "      <td>...</td>\n",
       "      <td>...</td>\n",
       "    </tr>\n",
       "    <tr>\n",
       "      <th>01/17/2022</th>\n",
       "      <td>5.6414</td>\n",
       "      <td>1.684</td>\n",
       "      <td>11.49500</td>\n",
       "    </tr>\n",
       "    <tr>\n",
       "      <th>01/18/2022</th>\n",
       "      <td>5.6396</td>\n",
       "      <td>1.683</td>\n",
       "      <td>11.18500</td>\n",
       "    </tr>\n",
       "    <tr>\n",
       "      <th>01/19/2022</th>\n",
       "      <td>5.5615</td>\n",
       "      <td>1.673</td>\n",
       "      <td>11.18000</td>\n",
       "    </tr>\n",
       "    <tr>\n",
       "      <th>01/20/2022</th>\n",
       "      <td>5.5678</td>\n",
       "      <td>1.672</td>\n",
       "      <td>11.54000</td>\n",
       "    </tr>\n",
       "    <tr>\n",
       "      <th>01/21/2022</th>\n",
       "      <td>5.5322</td>\n",
       "      <td>1.667</td>\n",
       "      <td>11.09500</td>\n",
       "    </tr>\n",
       "  </tbody>\n",
       "</table>\n",
       "<p>19380 rows × 3 columns</p>\n",
       "</div>"
      ],
      "text/plain": [
       "Name        Fundsmith Equity I Inc  JPM Global Macro Opportunities C Net Inc  \\\n",
       "Date                                                                           \n",
       "12/31/1968                     NaN                                       NaN   \n",
       "01/01/1969                     NaN                                       NaN   \n",
       "01/02/1969                     NaN                                       NaN   \n",
       "01/03/1969                     NaN                                       NaN   \n",
       "01/04/1969                     NaN                                       NaN   \n",
       "...                            ...                                       ...   \n",
       "01/17/2022                  5.6414                                     1.684   \n",
       "01/18/2022                  5.6396                                     1.683   \n",
       "01/19/2022                  5.5615                                     1.673   \n",
       "01/20/2022                  5.5678                                     1.672   \n",
       "01/21/2022                  5.5322                                     1.667   \n",
       "\n",
       "Name        Scottish Mortgage Ord  \n",
       "Date                               \n",
       "12/31/1968                0.04852  \n",
       "01/01/1969                0.04852  \n",
       "01/02/1969                0.04852  \n",
       "01/03/1969                0.04852  \n",
       "01/04/1969                0.04852  \n",
       "...                           ...  \n",
       "01/17/2022               11.49500  \n",
       "01/18/2022               11.18500  \n",
       "01/19/2022               11.18000  \n",
       "01/20/2022               11.54000  \n",
       "01/21/2022               11.09500  \n",
       "\n",
       "[19380 rows x 3 columns]"
      ]
     },
     "execution_count": 11,
     "metadata": {},
     "output_type": "execute_result"
    }
   ],
   "source": [
    "concatenated_df_pivot"
   ]
  },
  {
   "cell_type": "code",
   "execution_count": 12,
   "metadata": {},
   "outputs": [
    {
     "data": {
      "text/html": [
       "<div>\n",
       "<style scoped>\n",
       "    .dataframe tbody tr th:only-of-type {\n",
       "        vertical-align: middle;\n",
       "    }\n",
       "\n",
       "    .dataframe tbody tr th {\n",
       "        vertical-align: top;\n",
       "    }\n",
       "\n",
       "    .dataframe thead th {\n",
       "        text-align: right;\n",
       "    }\n",
       "</style>\n",
       "<table border=\"1\" class=\"dataframe\">\n",
       "  <thead>\n",
       "    <tr style=\"text-align: right;\">\n",
       "      <th>Name</th>\n",
       "      <th>Fundsmith Equity I Inc</th>\n",
       "      <th>JPM Global Macro Opportunities C Net Inc</th>\n",
       "      <th>Scottish Mortgage Ord</th>\n",
       "    </tr>\n",
       "    <tr>\n",
       "      <th>Date</th>\n",
       "      <th></th>\n",
       "      <th></th>\n",
       "      <th></th>\n",
       "    </tr>\n",
       "  </thead>\n",
       "  <tbody>\n",
       "    <tr>\n",
       "      <th>02/15/2013</th>\n",
       "      <td>1.4101</td>\n",
       "      <td>1.000</td>\n",
       "      <td>1.657</td>\n",
       "    </tr>\n",
       "    <tr>\n",
       "      <th>02/16/2013</th>\n",
       "      <td>1.4101</td>\n",
       "      <td>1.000</td>\n",
       "      <td>1.657</td>\n",
       "    </tr>\n",
       "    <tr>\n",
       "      <th>02/17/2013</th>\n",
       "      <td>1.4101</td>\n",
       "      <td>1.000</td>\n",
       "      <td>1.657</td>\n",
       "    </tr>\n",
       "    <tr>\n",
       "      <th>02/18/2013</th>\n",
       "      <td>1.4154</td>\n",
       "      <td>1.005</td>\n",
       "      <td>1.649</td>\n",
       "    </tr>\n",
       "    <tr>\n",
       "      <th>02/19/2013</th>\n",
       "      <td>1.4159</td>\n",
       "      <td>1.006</td>\n",
       "      <td>1.672</td>\n",
       "    </tr>\n",
       "    <tr>\n",
       "      <th>...</th>\n",
       "      <td>...</td>\n",
       "      <td>...</td>\n",
       "      <td>...</td>\n",
       "    </tr>\n",
       "    <tr>\n",
       "      <th>01/17/2022</th>\n",
       "      <td>5.6414</td>\n",
       "      <td>1.684</td>\n",
       "      <td>11.495</td>\n",
       "    </tr>\n",
       "    <tr>\n",
       "      <th>01/18/2022</th>\n",
       "      <td>5.6396</td>\n",
       "      <td>1.683</td>\n",
       "      <td>11.185</td>\n",
       "    </tr>\n",
       "    <tr>\n",
       "      <th>01/19/2022</th>\n",
       "      <td>5.5615</td>\n",
       "      <td>1.673</td>\n",
       "      <td>11.180</td>\n",
       "    </tr>\n",
       "    <tr>\n",
       "      <th>01/20/2022</th>\n",
       "      <td>5.5678</td>\n",
       "      <td>1.672</td>\n",
       "      <td>11.540</td>\n",
       "    </tr>\n",
       "    <tr>\n",
       "      <th>01/21/2022</th>\n",
       "      <td>5.5322</td>\n",
       "      <td>1.667</td>\n",
       "      <td>11.095</td>\n",
       "    </tr>\n",
       "  </tbody>\n",
       "</table>\n",
       "<p>3263 rows × 3 columns</p>\n",
       "</div>"
      ],
      "text/plain": [
       "Name        Fundsmith Equity I Inc  JPM Global Macro Opportunities C Net Inc  \\\n",
       "Date                                                                           \n",
       "02/15/2013                  1.4101                                     1.000   \n",
       "02/16/2013                  1.4101                                     1.000   \n",
       "02/17/2013                  1.4101                                     1.000   \n",
       "02/18/2013                  1.4154                                     1.005   \n",
       "02/19/2013                  1.4159                                     1.006   \n",
       "...                            ...                                       ...   \n",
       "01/17/2022                  5.6414                                     1.684   \n",
       "01/18/2022                  5.6396                                     1.683   \n",
       "01/19/2022                  5.5615                                     1.673   \n",
       "01/20/2022                  5.5678                                     1.672   \n",
       "01/21/2022                  5.5322                                     1.667   \n",
       "\n",
       "Name        Scottish Mortgage Ord  \n",
       "Date                               \n",
       "02/15/2013                  1.657  \n",
       "02/16/2013                  1.657  \n",
       "02/17/2013                  1.657  \n",
       "02/18/2013                  1.649  \n",
       "02/19/2013                  1.672  \n",
       "...                           ...  \n",
       "01/17/2022                 11.495  \n",
       "01/18/2022                 11.185  \n",
       "01/19/2022                 11.180  \n",
       "01/20/2022                 11.540  \n",
       "01/21/2022                 11.095  \n",
       "\n",
       "[3263 rows x 3 columns]"
      ]
     },
     "execution_count": 12,
     "metadata": {},
     "output_type": "execute_result"
    }
   ],
   "source": [
    "concatenated_df_pivot = concatenated_df_pivot.dropna()\n",
    "concatenated_df_pivot"
   ]
  },
  {
   "cell_type": "code",
   "execution_count": 13,
   "metadata": {},
   "outputs": [
    {
     "data": {
      "text/plain": [
       "<AxesSubplot:xlabel='Date'>"
      ]
     },
     "execution_count": 13,
     "metadata": {},
     "output_type": "execute_result"
    },
    {
     "data": {
      "image/png": "[encoded data removed]",
      "text/plain": [
       "<Figure size 1080x720 with 1 Axes>"
      ]
     },
     "metadata": {
      "needs_background": "light"
     },
     "output_type": "display_data"
    }
   ],
   "source": [
    "concatenated_df_pivot.plot(figsize=(15,10))"
   ]
  },
  {
   "cell_type": "markdown",
   "metadata": {},
   "source": [
    "## Calculating the covariance matrix"
   ]
  },
  {
   "cell_type": "code",
   "execution_count": 14,
   "metadata": {},
   "outputs": [
    {
     "data": {
      "text/plain": [
       "'1.5.1'"
      ]
     },
     "execution_count": 14,
     "metadata": {},
     "output_type": "execute_result"
    }
   ],
   "source": [
    "import pypfopt\n",
    "pypfopt.__version__"
   ]
  },
  {
   "cell_type": "code",
   "execution_count": 15,
   "metadata": {},
   "outputs": [
    {
     "data": {
      "text/html": [
       "<div>\n",
       "<style scoped>\n",
       "    .dataframe tbody tr th:only-of-type {\n",
       "        vertical-align: middle;\n",
       "    }\n",
       "\n",
       "    .dataframe tbody tr th {\n",
       "        vertical-align: top;\n",
       "    }\n",
       "\n",
       "    .dataframe thead th {\n",
       "        text-align: right;\n",
       "    }\n",
       "</style>\n",
       "<table border=\"1\" class=\"dataframe\">\n",
       "  <thead>\n",
       "    <tr style=\"text-align: right;\">\n",
       "      <th>Name</th>\n",
       "      <th>Fundsmith Equity I Inc</th>\n",
       "      <th>JPM Global Macro Opportunities C Net Inc</th>\n",
       "      <th>Scottish Mortgage Ord</th>\n",
       "    </tr>\n",
       "    <tr>\n",
       "      <th>Name</th>\n",
       "      <th></th>\n",
       "      <th></th>\n",
       "      <th></th>\n",
       "    </tr>\n",
       "  </thead>\n",
       "  <tbody>\n",
       "    <tr>\n",
       "      <th>Fundsmith Equity I Inc</th>\n",
       "      <td>0.013283</td>\n",
       "      <td>0.002410</td>\n",
       "      <td>0.007838</td>\n",
       "    </tr>\n",
       "    <tr>\n",
       "      <th>JPM Global Macro Opportunities C Net Inc</th>\n",
       "      <td>0.002410</td>\n",
       "      <td>0.003225</td>\n",
       "      <td>0.001416</td>\n",
       "    </tr>\n",
       "    <tr>\n",
       "      <th>Scottish Mortgage Ord</th>\n",
       "      <td>0.007838</td>\n",
       "      <td>0.001416</td>\n",
       "      <td>0.043757</td>\n",
       "    </tr>\n",
       "  </tbody>\n",
       "</table>\n",
       "</div>"
      ],
      "text/plain": [
       "Name                                      Fundsmith Equity I Inc  \\\n",
       "Name                                                               \n",
       "Fundsmith Equity I Inc                                  0.013283   \n",
       "JPM Global Macro Opportunities C Net Inc                0.002410   \n",
       "Scottish Mortgage Ord                                   0.007838   \n",
       "\n",
       "Name                                      JPM Global Macro Opportunities C Net Inc  \\\n",
       "Name                                                                                 \n",
       "Fundsmith Equity I Inc                                                    0.002410   \n",
       "JPM Global Macro Opportunities C Net Inc                                  0.003225   \n",
       "Scottish Mortgage Ord                                                     0.001416   \n",
       "\n",
       "Name                                      Scottish Mortgage Ord  \n",
       "Name                                                             \n",
       "Fundsmith Equity I Inc                                 0.007838  \n",
       "JPM Global Macro Opportunities C Net Inc               0.001416  \n",
       "Scottish Mortgage Ord                                  0.043757  "
      ]
     },
     "execution_count": 15,
     "metadata": {},
     "output_type": "execute_result"
    }
   ],
   "source": [
    "from pypfopt import risk_models\n",
    "from pypfopt import plotting\n",
    "\n",
    "sample_cov = risk_models.sample_cov(concatenated_df_pivot, frequency=252)\n",
    "sample_cov"
   ]
  },
  {
   "cell_type": "code",
   "execution_count": 16,
   "metadata": {},
   "outputs": [
    {
     "data": {
      "text/plain": [
       "<AxesSubplot:>"
      ]
     },
     "execution_count": 16,
     "metadata": {},
     "output_type": "execute_result"
    },
    {
     "data": {
      "image/png": "[encoded data removed]",
      "text/plain": [
       "<Figure size 432x288 with 2 Axes>"
      ]
     },
     "metadata": {
      "needs_background": "light"
     },
     "output_type": "display_data"
    }
   ],
   "source": [
    "plotting.plot_covariance(sample_cov, plot_correlation=True)"
   ]
  },
  {
   "cell_type": "markdown",
   "metadata": {},
   "source": [
    "## Return estimation"
   ]
  },
  {
   "cell_type": "code",
   "execution_count": 17,
   "metadata": {},
   "outputs": [
    {
     "data": {
      "text/plain": [
       "Name\n",
       "Fundsmith Equity I Inc                      0.094467\n",
       "JPM Global Macro Opportunities C Net Inc    0.042315\n",
       "Scottish Mortgage Ord                       0.187754\n",
       "Name: mkt, dtype: float64"
      ]
     },
     "execution_count": 17,
     "metadata": {},
     "output_type": "execute_result"
    }
   ],
   "source": [
    "from pypfopt import expected_returns\n",
    "\n",
    "mu = expected_returns.capm_return(concatenated_df_pivot)\n",
    "mu"
   ]
  },
  {
   "cell_type": "code",
   "execution_count": 18,
   "metadata": {},
   "outputs": [
    {
     "data": {
      "text/plain": [
       "<AxesSubplot:ylabel='Name'>"
      ]
     },
     "execution_count": 18,
     "metadata": {},
     "output_type": "execute_result"
    },
    {
     "data": {
      "image/png": "[encoded data removed]",
      "text/plain": [
       "<Figure size 720x432 with 1 Axes>"
      ]
     },
     "metadata": {
      "needs_background": "light"
     },
     "output_type": "display_data"
    }
   ],
   "source": [
    "mu.plot.barh(figsize=(10,6))"
   ]
  },
  {
   "cell_type": "markdown",
   "metadata": {},
   "source": [
    "## Long/short min variance"
   ]
  },
  {
   "cell_type": "code",
   "execution_count": 19,
   "metadata": {},
   "outputs": [],
   "source": [
    "from pypfopt import EfficientFrontier"
   ]
  },
  {
   "cell_type": "code",
   "execution_count": 20,
   "metadata": {},
   "outputs": [
    {
     "data": {
      "text/plain": [
       "OrderedDict([('Fundsmith Equity I Inc', 0.06362),\n",
       "             ('JPM Global Macro Opportunities C Net Inc', 0.90161),\n",
       "             ('Scottish Mortgage Ord', 0.03478)])"
      ]
     },
     "execution_count": 20,
     "metadata": {},
     "output_type": "execute_result"
    }
   ],
   "source": [
    "S = risk_models.CovarianceShrinkage(concatenated_df_pivot).ledoit_wolf()\n",
    "\n",
    "# You don't have to provide expected returns in this case\n",
    "ef = EfficientFrontier(None, S, weight_bounds=(0, None))\n",
    "ef.min_volatility()\n",
    "weights = ef.clean_weights()\n",
    "weights"
   ]
  },
  {
   "cell_type": "code",
   "execution_count": 21,
   "metadata": {},
   "outputs": [
    {
     "data": {
      "image/png": "[encoded data removed]",
      "text/plain": [
       "<Figure size 432x288 with 1 Axes>"
      ]
     },
     "metadata": {
      "needs_background": "light"
     },
     "output_type": "display_data"
    }
   ],
   "source": [
    "pd.Series(weights).plot.barh();"
   ]
  },
  {
   "cell_type": "code",
   "execution_count": 22,
   "metadata": {},
   "outputs": [
    {
     "name": "stdout",
     "output_type": "stream",
     "text": [
      "Annual volatility: 5.7%\n"
     ]
    }
   ],
   "source": [
    "ef.portfolio_performance(verbose=True);"
   ]
  },
  {
   "cell_type": "code",
   "execution_count": 23,
   "metadata": {},
   "outputs": [],
   "source": [
    "returns = np.log(concatenated_df_pivot/concatenated_df_pivot.shift(1))"
   ]
  },
  {
   "cell_type": "code",
   "execution_count": 24,
   "metadata": {},
   "outputs": [],
   "source": [
    "agg_returns = returns * weights"
   ]
  },
  {
   "cell_type": "code",
   "execution_count": 25,
   "metadata": {},
   "outputs": [],
   "source": [
    "portfolio_return = agg_returns.sum(axis=1)\n",
    "portfolio_return.name = 'Close'\n",
    "portfolio_return.index = pd.to_datetime(portfolio_return.index)"
   ]
  },
  {
   "cell_type": "code",
   "execution_count": 26,
   "metadata": {},
   "outputs": [],
   "source": [
    "import quantstats as qs\n",
    "qs.extend_pandas()"
   ]
  },
  {
   "cell_type": "code",
   "execution_count": 27,
   "metadata": {},
   "outputs": [],
   "source": [
    "qs.reports.html(portfolio_return, \"SPY\", output = 'min_variance.html')"
   ]
  },
  {
   "cell_type": "markdown",
   "metadata": {},
   "source": [
    "## Max Sharpe"
   ]
  },
  {
   "cell_type": "code",
   "execution_count": 28,
   "metadata": {},
   "outputs": [
    {
     "data": {
      "text/plain": [
       "OrderedDict([('Fundsmith Equity I Inc', 0.33931),\n",
       "             ('JPM Global Macro Opportunities C Net Inc', 0.32073),\n",
       "             ('Scottish Mortgage Ord', 0.33995)])"
      ]
     },
     "execution_count": 28,
     "metadata": {},
     "output_type": "execute_result"
    }
   ],
   "source": [
    "S = risk_models.CovarianceShrinkage(concatenated_df_pivot).ledoit_wolf()\n",
    "\n",
    "# You don't have to provide expected returns in this case\n",
    "ef = EfficientFrontier(mu, S)\n",
    "ef.max_sharpe()\n",
    "weights = ef.clean_weights()\n",
    "weights"
   ]
  },
  {
   "cell_type": "code",
   "execution_count": 29,
   "metadata": {},
   "outputs": [
    {
     "name": "stdout",
     "output_type": "stream",
     "text": [
      "Expected annual return: 10.9%\n",
      "Annual volatility: 9.8%\n",
      "Sharpe Ratio: 0.92\n"
     ]
    }
   ],
   "source": [
    "ef.portfolio_performance(verbose=True);"
   ]
  },
  {
   "cell_type": "code",
   "execution_count": 30,
   "metadata": {},
   "outputs": [],
   "source": [
    "returns = np.log(concatenated_df_pivot/concatenated_df_pivot.shift(1))\n",
    "agg_returns = returns * weights\n",
    "portfolio_return = agg_returns.sum(axis=1)\n",
    "portfolio_return.name = 'Close'\n",
    "portfolio_return.index = pd.to_datetime(portfolio_return.index)\n",
    "qs.reports.html(portfolio_return, \"SPY\", output = 'max_sharpe.html')"
   ]
  },
  {
   "cell_type": "markdown",
   "metadata": {},
   "source": [
    "## Maximise return for a given risk, with L2 regularisation"
   ]
  },
  {
   "cell_type": "code",
   "execution_count": 31,
   "metadata": {},
   "outputs": [
    {
     "data": {
      "text/plain": [
       "OrderedDict([('Fundsmith Equity I Inc', 0.43132),\n",
       "             ('JPM Global Macro Opportunities C Net Inc', 0.12689),\n",
       "             ('Scottish Mortgage Ord', 0.44178)])"
      ]
     },
     "execution_count": 31,
     "metadata": {},
     "output_type": "execute_result"
    }
   ],
   "source": [
    "ef = EfficientFrontier(mu, S)\n",
    "ef.efficient_risk(target_volatility=0.12)\n",
    "weights = ef.clean_weights()\n",
    "weights"
   ]
  },
  {
   "cell_type": "code",
   "execution_count": 32,
   "metadata": {},
   "outputs": [
    {
     "name": "stdout",
     "output_type": "stream",
     "text": [
      "Expected annual return: 12.9%\n",
      "Annual volatility: 12.0%\n",
      "Sharpe Ratio: 0.91\n"
     ]
    },
    {
     "data": {
      "text/plain": [
       "(0.12906214742330374, 0.11999999986210648, 0.9088512295719036)"
      ]
     },
     "execution_count": 32,
     "metadata": {},
     "output_type": "execute_result"
    }
   ],
   "source": [
    "ef.portfolio_performance(verbose=True)"
   ]
  },
  {
   "cell_type": "code",
   "execution_count": 33,
   "metadata": {},
   "outputs": [],
   "source": [
    "returns = np.log(concatenated_df_pivot/concatenated_df_pivot.shift(1))\n",
    "agg_returns = returns * weights\n",
    "portfolio_return = agg_returns.sum(axis=1)\n",
    "portfolio_return.name = 'Close'\n",
    "portfolio_return.index = pd.to_datetime(portfolio_return.index)\n",
    "qs.reports.html(portfolio_return, \"SPY\", output = 'max-return_given_risk.html')"
   ]
  },
  {
   "cell_type": "markdown",
   "metadata": {},
   "source": [
    "## L2 Regularisation"
   ]
  },
  {
   "cell_type": "code",
   "execution_count": 34,
   "metadata": {},
   "outputs": [
    {
     "data": {
      "text/plain": [
       "OrderedDict([('Fundsmith Equity I Inc', 0.28838),\n",
       "             ('JPM Global Macro Opportunities C Net Inc', 0.06341),\n",
       "             ('Scottish Mortgage Ord', 0.64822)])"
      ]
     },
     "execution_count": 34,
     "metadata": {},
     "output_type": "execute_result"
    }
   ],
   "source": [
    "from pypfopt import objective_functions\n",
    "\n",
    "# You must always create a new efficient frontier object\n",
    "ef = EfficientFrontier(mu, S)\n",
    "ef.add_objective(objective_functions.L2_reg, gamma=0.1)  # gamme is the tuning parameter\n",
    "ef.efficient_risk(0.15)\n",
    "weights = ef.clean_weights()\n",
    "weights"
   ]
  },
  {
   "cell_type": "code",
   "execution_count": 35,
   "metadata": {},
   "outputs": [
    {
     "name": "stdout",
     "output_type": "stream",
     "text": [
      "Expected annual return: 15.2%\n",
      "Annual volatility: 15.0%\n",
      "Sharpe Ratio: 0.88\n"
     ]
    },
    {
     "data": {
      "text/plain": [
       "(0.15163078921789364, 0.1499999991769511, 0.8775385996010056)"
      ]
     },
     "execution_count": 35,
     "metadata": {},
     "output_type": "execute_result"
    }
   ],
   "source": [
    "ef.portfolio_performance(verbose=True)"
   ]
  },
  {
   "cell_type": "code",
   "execution_count": 36,
   "metadata": {},
   "outputs": [],
   "source": [
    "returns = np.log(concatenated_df_pivot/concatenated_df_pivot.shift(1))\n",
    "agg_returns = returns * weights\n",
    "portfolio_return = agg_returns.sum(axis=1)\n",
    "portfolio_return.name = 'Close'\n",
    "portfolio_return.index = pd.to_datetime(portfolio_return.index)\n",
    "qs.reports.html(portfolio_return, \"SPY\", output = 'max-return-L2_regularised.html')"
   ]
  },
  {
   "cell_type": "markdown",
   "metadata": {},
   "source": [
    "## Efficient semi-variance optimization"
   ]
  },
  {
   "cell_type": "code",
   "execution_count": 37,
   "metadata": {},
   "outputs": [
    {
     "data": {
      "image/png": "[encoded data removed]",
      "text/plain": [
       "<Figure size 432x288 with 2 Axes>"
      ]
     },
     "metadata": {
      "needs_background": "light"
     },
     "output_type": "display_data"
    }
   ],
   "source": [
    "semicov = risk_models.semicovariance(concatenated_df_pivot, benchmark=0)\n",
    "plotting.plot_covariance(semicov);"
   ]
  },
  {
   "cell_type": "code",
   "execution_count": 38,
   "metadata": {},
   "outputs": [
    {
     "data": {
      "text/plain": [
       "OrderedDict([('Fundsmith Equity I Inc', 0.11219),\n",
       "             ('JPM Global Macro Opportunities C Net Inc', 0.80644),\n",
       "             ('Scottish Mortgage Ord', 0.08137)])"
      ]
     },
     "execution_count": 38,
     "metadata": {},
     "output_type": "execute_result"
    }
   ],
   "source": [
    "ef = EfficientFrontier(mu, semicov)\n",
    "ef.efficient_return(0.06)\n",
    "weights = ef.clean_weights()\n",
    "weights"
   ]
  },
  {
   "cell_type": "code",
   "execution_count": 40,
   "metadata": {},
   "outputs": [
    {
     "name": "stdout",
     "output_type": "stream",
     "text": [
      "Expected annual return: 6.0%\n",
      "Annual volatility: 4.4%\n",
      "Sharpe Ratio: 0.92\n"
     ]
    }
   ],
   "source": [
    "ef.portfolio_performance(verbose=True);"
   ]
  },
  {
   "cell_type": "code",
   "execution_count": 39,
   "metadata": {},
   "outputs": [],
   "source": [
    "returns = np.log(concatenated_df_pivot/concatenated_df_pivot.shift(1))\n",
    "agg_returns = returns * weights\n",
    "portfolio_return = agg_returns.sum(axis=1)\n",
    "portfolio_return.name = 'Close'\n",
    "portfolio_return.index = pd.to_datetime(portfolio_return.index)\n",
    "qs.reports.html(portfolio_return, \"SPY\", output = 'semi-variance_opt.html')"
   ]
  },
  {
   "cell_type": "markdown",
   "metadata": {},
   "source": [
    "## Efficient CVaR optimization"
   ]
  },
  {
   "cell_type": "code",
   "execution_count": 41,
   "metadata": {},
   "outputs": [
    {
     "data": {
      "text/html": [
       "<div>\n",
       "<style scoped>\n",
       "    .dataframe tbody tr th:only-of-type {\n",
       "        vertical-align: middle;\n",
       "    }\n",
       "\n",
       "    .dataframe tbody tr th {\n",
       "        vertical-align: top;\n",
       "    }\n",
       "\n",
       "    .dataframe thead th {\n",
       "        text-align: right;\n",
       "    }\n",
       "</style>\n",
       "<table border=\"1\" class=\"dataframe\">\n",
       "  <thead>\n",
       "    <tr style=\"text-align: right;\">\n",
       "      <th>Name</th>\n",
       "      <th>Fundsmith Equity I Inc</th>\n",
       "      <th>JPM Global Macro Opportunities C Net Inc</th>\n",
       "      <th>Scottish Mortgage Ord</th>\n",
       "    </tr>\n",
       "    <tr>\n",
       "      <th>Date</th>\n",
       "      <th></th>\n",
       "      <th></th>\n",
       "      <th></th>\n",
       "    </tr>\n",
       "  </thead>\n",
       "  <tbody>\n",
       "    <tr>\n",
       "      <th>02/16/2013</th>\n",
       "      <td>0.000000</td>\n",
       "      <td>0.000000</td>\n",
       "      <td>0.000000</td>\n",
       "    </tr>\n",
       "    <tr>\n",
       "      <th>02/17/2013</th>\n",
       "      <td>0.000000</td>\n",
       "      <td>0.000000</td>\n",
       "      <td>0.000000</td>\n",
       "    </tr>\n",
       "    <tr>\n",
       "      <th>02/18/2013</th>\n",
       "      <td>0.003759</td>\n",
       "      <td>0.005000</td>\n",
       "      <td>-0.004828</td>\n",
       "    </tr>\n",
       "    <tr>\n",
       "      <th>02/19/2013</th>\n",
       "      <td>0.000353</td>\n",
       "      <td>0.000995</td>\n",
       "      <td>0.013948</td>\n",
       "    </tr>\n",
       "    <tr>\n",
       "      <th>02/20/2013</th>\n",
       "      <td>0.014832</td>\n",
       "      <td>0.000000</td>\n",
       "      <td>0.009569</td>\n",
       "    </tr>\n",
       "  </tbody>\n",
       "</table>\n",
       "</div>"
      ],
      "text/plain": [
       "Name        Fundsmith Equity I Inc  JPM Global Macro Opportunities C Net Inc  \\\n",
       "Date                                                                           \n",
       "02/16/2013                0.000000                                  0.000000   \n",
       "02/17/2013                0.000000                                  0.000000   \n",
       "02/18/2013                0.003759                                  0.005000   \n",
       "02/19/2013                0.000353                                  0.000995   \n",
       "02/20/2013                0.014832                                  0.000000   \n",
       "\n",
       "Name        Scottish Mortgage Ord  \n",
       "Date                               \n",
       "02/16/2013               0.000000  \n",
       "02/17/2013               0.000000  \n",
       "02/18/2013              -0.004828  \n",
       "02/19/2013               0.013948  \n",
       "02/20/2013               0.009569  "
      ]
     },
     "execution_count": 41,
     "metadata": {},
     "output_type": "execute_result"
    }
   ],
   "source": [
    "returns = expected_returns.returns_from_prices(concatenated_df_pivot).dropna()\n",
    "returns.head()"
   ]
  },
  {
   "cell_type": "code",
   "execution_count": 42,
   "metadata": {},
   "outputs": [
    {
     "name": "stdout",
     "output_type": "stream",
     "text": [
      "Expected annual return: 10.9%\n",
      "Annual volatility: 9.8%\n",
      "Sharpe Ratio: 0.92\n"
     ]
    }
   ],
   "source": [
    "ef = EfficientFrontier(mu, S)\n",
    "ef.max_sharpe()\n",
    "weight_arr = ef.weights\n",
    "ef.portfolio_performance(verbose=True);"
   ]
  },
  {
   "cell_type": "markdown",
   "metadata": {},
   "source": [
    "## Plotting - Unconstrained"
   ]
  },
  {
   "cell_type": "code",
   "execution_count": 172,
   "metadata": {},
   "outputs": [
    {
     "name": "stdout",
     "output_type": "stream",
     "text": [
      "Expected annual return: 8.6%\n",
      "Annual volatility: 7.5%\n",
      "Sharpe Ratio: 0.89\n"
     ]
    }
   ],
   "source": [
    "from pypfopt import CLA, plotting\n",
    "\n",
    "cla = CLA(mu, S)\n",
    "cla.max_sharpe()\n",
    "cla.portfolio_performance(verbose=True);"
   ]
  },
  {
   "cell_type": "code",
   "execution_count": 173,
   "metadata": {},
   "outputs": [
    {
     "data": {
      "image/png": "[encoded data removed]",
      "text/plain": [
       "<Figure size 432x288 with 1 Axes>"
      ]
     },
     "metadata": {
      "needs_background": "light"
     },
     "output_type": "display_data"
    }
   ],
   "source": [
    "ax = plotting.plot_efficient_frontier(cla, showfig=False)"
   ]
  }
 ],
 "metadata": {
  "interpreter": {
   "hash": "41e2953d7975b11ba52acd54a0402d4c01af6c1ef4291ed75078867906c594d9"
  },
  "kernelspec": {
   "display_name": "Python 3",
   "language": "python",
   "name": "python3"
  },
  "language_info": {
   "codemirror_mode": {
    "name": "ipython",
    "version": 3
   },
   "file_extension": ".py",
   "mimetype": "text/x-python",
   "name": "python",
   "nbconvert_exporter": "python",
   "pygments_lexer": "ipython3",
   "version": "3.9.7"
  }
 },
 "nbformat": 4,
 "nbformat_minor": 2
}
