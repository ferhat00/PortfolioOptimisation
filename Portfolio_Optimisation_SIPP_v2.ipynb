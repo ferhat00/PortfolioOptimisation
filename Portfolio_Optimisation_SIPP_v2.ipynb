{
 "cells": [
  {
   "cell_type": "code",
   "execution_count": 14,
   "metadata": {},
   "outputs": [],
   "source": [
    "import numpy as np\n",
    "import pandas as pd\n",
    "import matplotlib.pyplot as plt\n",
    "import glob\n",
    "import os\n",
    "from datetime import date\n",
    "import quantstats as qs\n",
    "qs.extend_pandas()"
   ]
  },
  {
   "cell_type": "markdown",
   "metadata": {},
   "source": [
    "### List of key market dates\n",
    "#### Bear <br>\n",
    "2020-02-10 - 2020-03-16 <br>\n",
    "2007-10-01 - 2009-03-02 <br>\n",
    "2000-03-13 - 2002-10-30 <br>\n",
    "1987-08-17 - 1987-11-30 <br>\n",
    "1980-11-17 - 1982-08-09 <br>\n",
    "1973-01-02 - 1974-09-30 <br>\n",
    "1968-12-09 - 1970-05-18 <br>\n",
    "1966-01-31 - 1966-10-03 <br>\n",
    "1961-12-04 - 1962-10-22 <br>\n",
    "1957-07-15 - 1957-12-23 <br>\n",
    "1937-02-22 - 1942-04-20 <br>\n",
    "1929-02-09 - 1932-07-05 <br>\n",
    "\n",
    "#### Bull <br>\n",
    "1935-03-11 - 1937-02-22 <br>\n",
    "1942-04-20 - 1957-07-15 <br>\n",
    "1960-10-24 - 1961-12-04 <br>\n",
    "1962-10-22 - 1966-01-31 <br>\n",
    "1966-10-03 - 1968-12-09 <br>\n",
    "1970-05-18 - 1973-01-02 <br>\n",
    "1978-03-27 - 1980-11-17 <br>\n",
    "1982-08-09 - 1987-08-17 <br>\n",
    "1990-10-15 - 2000-03-13 <br>\n",
    "2002-10-30 - 2007-10-01 <br>\n",
    "2009-03-02 - 2020-02-10 <br>\n",
    "2020-03-20 - 2021-12-20 <br>\n",
    "\n"
   ]
  },
  {
   "cell_type": "markdown",
   "metadata": {},
   "source": [
    "## Settings"
   ]
  },
  {
   "cell_type": "code",
   "execution_count": 15,
   "metadata": {},
   "outputs": [],
   "source": [
    "# Settings\n",
    "local_data = [True, False][0]\n",
    "all_local = [True, False][1]\n",
    "max_sharpe = [True, False][0]\n",
    "min_variance = [True, False][0]\n",
    "target_vol = [True, False][0]\n",
    "manual_weights  = [True, False][1]\n",
    "plot_timeseries = [True, False][0]\n",
    "l2_reg = [True, False][0]\n",
    "semi_var = [True, False][0]\n",
    "c_VAR = [True, False][0]\n",
    "stock = \"BZ=F ZN=F GC=F SI=F IYR LQD EEM ^N225 ^N100\" #\"BZ=F NQ=F ZN=F GC=F SI=F ZT=F ZB=F ES=F IYR EWJ LQD EEM ^N225 ^N100\"\n",
    "fund_folder = r'\\fund_series\\20220207'\n",
    "prefix_name = 'yhoo_asset_classes'\n",
    "train_start = '01/08/2018'\n",
    "train_end = '07/14/2019'\n",
    "test_start = '07/15/2019'\n",
    "test_end = date.today()\n"
   ]
  },
  {
   "cell_type": "markdown",
   "metadata": {},
   "source": [
    "# Mean-variance optimization"
   ]
  },
  {
   "cell_type": "code",
   "execution_count": 16,
   "metadata": {},
   "outputs": [],
   "source": [
    "def generate_performance_metrics (prices_pivot = None, prefix_name = None, file_text = None, benchmark = 'SPY', title = 'Strategy Tearsheet', weights = None):\n",
    "    returns = np.log(prices_pivot/prices_pivot.shift(1))\n",
    "    agg_returns = returns * weights\n",
    "    portfolio_return = agg_returns.sum(axis=1)\n",
    "    portfolio_return.name = 'Close'\n",
    "    portfolio_return.index = pd.to_datetime(portfolio_return.index)\n",
    "    qs.reports.html(returns = portfolio_return, benchmark = benchmark, output = prefix_name + file_text + '.html', title= prefix_name+ title)"
   ]
  },
  {
   "cell_type": "markdown",
   "metadata": {},
   "source": [
    "## Downloading data"
   ]
  },
  {
   "cell_type": "code",
   "execution_count": 17,
   "metadata": {},
   "outputs": [],
   "source": [
    "import yfinance as yf\n",
    "today = date.today()"
   ]
  },
  {
   "cell_type": "code",
   "execution_count": 18,
   "metadata": {},
   "outputs": [],
   "source": [
    "if local_data == False:\n",
    "    date_start = '2000-01-01'\n",
    "    date_end = today.strftime(\"%Y-%m-%d\")\n",
    "    time_interval = ['daily', 'weekly','monthly'][0]\n",
    "    data = yf.download(stock, start=date_start, end=date_end)\n",
    "    data_close = data['Adj Close']\n",
    "    concatenated_df_pivot = data_close\n",
    "    concatenated_df_pivot = concatenated_df_pivot.sort_values(by=\"Date\", key=pd.to_datetime)\n",
    "    concatenated_df_pivot = concatenated_df_pivot.dropna()\n",
    "    if plot_timeseries:\n",
    "        data_close.plot(logy= True, figsize=(30,15))\n",
    "\n"
   ]
  },
  {
   "cell_type": "code",
   "execution_count": 19,
   "metadata": {},
   "outputs": [
    {
     "data": {
      "text/plain": [
       "{0: 'C:\\\\Users\\\\Ferhat\\\\Python Code\\\\Github\\\\Portfolio_Optimisation\\\\PortfolioOptimisation\\\\fund_series\\\\20220207\\\\HgCapital Trust Ord.csv',\n",
       " 1: 'C:\\\\Users\\\\Ferhat\\\\Python Code\\\\Github\\\\Portfolio_Optimisation\\\\PortfolioOptimisation\\\\fund_series\\\\20220207\\\\JPM Global Macro Opportunities C Net Inc.csv',\n",
       " 2: 'C:\\\\Users\\\\Ferhat\\\\Python Code\\\\Github\\\\Portfolio_Optimisation\\\\PortfolioOptimisation\\\\fund_series\\\\20220207\\\\JPMorgan China Growth & Income Ord.csv',\n",
       " 3: 'C:\\\\Users\\\\Ferhat\\\\Python Code\\\\Github\\\\Portfolio_Optimisation\\\\PortfolioOptimisation\\\\fund_series\\\\20220207\\\\Montanaro European Smaller Ord.csv',\n",
       " 4: 'C:\\\\Users\\\\Ferhat\\\\Python Code\\\\Github\\\\Portfolio_Optimisation\\\\PortfolioOptimisation\\\\fund_series\\\\20220207\\\\PIMCO GIS Glb Bd Instl GBPH Acc.csv',\n",
       " 5: 'C:\\\\Users\\\\Ferhat\\\\Python Code\\\\Github\\\\Portfolio_Optimisation\\\\PortfolioOptimisation\\\\fund_series\\\\20220207\\\\Rathbone Global Opportunities S Acc.csv',\n",
       " 6: 'C:\\\\Users\\\\Ferhat\\\\Python Code\\\\Github\\\\Portfolio_Optimisation\\\\PortfolioOptimisation\\\\fund_series\\\\20220207\\\\Scottish Mortgage Ord.csv'}"
      ]
     },
     "execution_count": 19,
     "metadata": {},
     "output_type": "execute_result"
    }
   ],
   "source": [
    "# ALL FILES\n",
    "path = r'C:\\Users\\Ferhat\\Python Code\\Github\\Portfolio_Optimisation\\PortfolioOptimisation' + fund_folder                     # use your path\n",
    "all_files = glob.glob(os.path.join(path, \"*.csv\"))     # advisable to use os.path.join as this makes concatenation OS independent\n",
    "iterator = zip(np.arange(len(all_files)).tolist(), all_files)\n",
    "file_list = dict(iterator)\n",
    "file_list\n"
   ]
  },
  {
   "cell_type": "code",
   "execution_count": 20,
   "metadata": {},
   "outputs": [
    {
     "name": "stdout",
     "output_type": "stream",
     "text": [
      "C:\\Users\\Ferhat\\Python Code\\Github\\Portfolio_Optimisation\\PortfolioOptimisation\\fund_series\\20220207\\HgCapital Trust Ord.csv\n",
      "C:\\Users\\Ferhat\\Python Code\\Github\\Portfolio_Optimisation\\PortfolioOptimisation\\fund_series\\20220207\\JPMorgan China Growth & Income Ord.csv\n",
      "C:\\Users\\Ferhat\\Python Code\\Github\\Portfolio_Optimisation\\PortfolioOptimisation\\fund_series\\20220207\\Montanaro European Smaller Ord.csv\n",
      "C:\\Users\\Ferhat\\Python Code\\Github\\Portfolio_Optimisation\\PortfolioOptimisation\\fund_series\\20220207\\PIMCO GIS Glb Bd Instl GBPH Acc.csv\n",
      "C:\\Users\\Ferhat\\Python Code\\Github\\Portfolio_Optimisation\\PortfolioOptimisation\\fund_series\\20220207\\Rathbone Global Opportunities S Acc.csv\n",
      "C:\\Users\\Ferhat\\Python Code\\Github\\Portfolio_Optimisation\\PortfolioOptimisation\\fund_series\\20220207\\Scottish Mortgage Ord.csv\n"
     ]
    },
    {
     "data": {
      "image/png": "[encoded data removed]",
      "text/plain": [
       "<Figure size 1080x720 with 1 Axes>"
      ]
     },
     "metadata": {
      "needs_background": "light"
     },
     "output_type": "display_data"
    }
   ],
   "source": [
    "# SOME FILES\n",
    "if local_data:\n",
    "    indices = [0, 2, 3, 4, 5, 6]\n",
    "    sub_files = []\n",
    "\n",
    "    for index in indices:\n",
    "        sub_files.append(file_list[index])\n",
    "\n",
    "    df_from_each_file = (pd.read_csv(f, index_col=False) for f in sub_files)\n",
    "    concatenated_df   = pd.concat(df_from_each_file, ignore_index=True)\n",
    "    \n",
    "    for x in range(len(sub_files)):\n",
    "        print(sub_files[x])\n",
    "    concatenated_df.drop([ 'High', 'Low', 'Open', 'Volume'], axis=1, inplace=True)\n",
    "    concatenated_df['Close'] = concatenated_df['Close'].fillna(concatenated_df['NAV'])\n",
    "    concatenated_df.drop(['NAV'], axis=1, inplace=True)\n",
    "    concatenated_df_pivot = concatenated_df.pivot(columns='Name', values='Close', index='Date')\n",
    "    concatenated_df_pivot.index = pd.to_datetime(concatenated_df_pivot.index, format = '%m/%d/%Y')#.strftime('%m/%d/%Y')\n",
    "    #concatenated_df_pivot['Date']= pd.to_datetime(concatenated_df_pivot['Date'])\n",
    "    concatenated_df_pivot = concatenated_df_pivot.sort_values(by=\"Date\", key=pd.to_datetime)\n",
    "    concatenated_df_pivot = concatenated_df_pivot.dropna()\n",
    "\n",
    "    if plot_timeseries:\n",
    "        concatenated_df_pivot.plot(figsize=(15,10))"
   ]
  },
  {
   "cell_type": "code",
   "execution_count": 21,
   "metadata": {},
   "outputs": [
    {
     "data": {
      "text/html": [
       "<div>\n",
       "<style scoped>\n",
       "    .dataframe tbody tr th:only-of-type {\n",
       "        vertical-align: middle;\n",
       "    }\n",
       "\n",
       "    .dataframe tbody tr th {\n",
       "        vertical-align: top;\n",
       "    }\n",
       "\n",
       "    .dataframe thead th {\n",
       "        text-align: right;\n",
       "    }\n",
       "</style>\n",
       "<table border=\"1\" class=\"dataframe\">\n",
       "  <thead>\n",
       "    <tr style=\"text-align: right;\">\n",
       "      <th>Name</th>\n",
       "      <th>HgCapital Trust Ord</th>\n",
       "      <th>JPMorgan China Growth &amp; Income Ord</th>\n",
       "      <th>Montanaro European Smaller Ord</th>\n",
       "      <th>PIMCO GIS Glb Bd Instl GBPH Acc</th>\n",
       "      <th>Rathbone Global Opportunities S Acc</th>\n",
       "      <th>Scottish Mortgage Ord</th>\n",
       "    </tr>\n",
       "    <tr>\n",
       "      <th>Date</th>\n",
       "      <th></th>\n",
       "      <th></th>\n",
       "      <th></th>\n",
       "      <th></th>\n",
       "      <th></th>\n",
       "      <th></th>\n",
       "    </tr>\n",
       "  </thead>\n",
       "  <tbody>\n",
       "    <tr>\n",
       "      <th>2003-04-16</th>\n",
       "      <td>0.2205</td>\n",
       "      <td>0.410</td>\n",
       "      <td>0.1095</td>\n",
       "      <td>9.21</td>\n",
       "      <td>0.136142</td>\n",
       "      <td>0.512</td>\n",
       "    </tr>\n",
       "    <tr>\n",
       "      <th>2003-04-17</th>\n",
       "      <td>0.2205</td>\n",
       "      <td>0.405</td>\n",
       "      <td>0.1094</td>\n",
       "      <td>9.21</td>\n",
       "      <td>0.134755</td>\n",
       "      <td>0.511</td>\n",
       "    </tr>\n",
       "    <tr>\n",
       "      <th>2003-04-18</th>\n",
       "      <td>0.2205</td>\n",
       "      <td>0.405</td>\n",
       "      <td>0.1094</td>\n",
       "      <td>9.21</td>\n",
       "      <td>0.134755</td>\n",
       "      <td>0.511</td>\n",
       "    </tr>\n",
       "    <tr>\n",
       "      <th>2003-04-19</th>\n",
       "      <td>0.2205</td>\n",
       "      <td>0.405</td>\n",
       "      <td>0.1094</td>\n",
       "      <td>9.21</td>\n",
       "      <td>0.134755</td>\n",
       "      <td>0.511</td>\n",
       "    </tr>\n",
       "    <tr>\n",
       "      <th>2003-04-20</th>\n",
       "      <td>0.2205</td>\n",
       "      <td>0.405</td>\n",
       "      <td>0.1094</td>\n",
       "      <td>9.21</td>\n",
       "      <td>0.134755</td>\n",
       "      <td>0.511</td>\n",
       "    </tr>\n",
       "    <tr>\n",
       "      <th>...</th>\n",
       "      <td>...</td>\n",
       "      <td>...</td>\n",
       "      <td>...</td>\n",
       "      <td>...</td>\n",
       "      <td>...</td>\n",
       "      <td>...</td>\n",
       "    </tr>\n",
       "    <tr>\n",
       "      <th>2022-01-31</th>\n",
       "      <td>4.1800</td>\n",
       "      <td>4.410</td>\n",
       "      <td>1.7300</td>\n",
       "      <td>23.20</td>\n",
       "      <td>1.725353</td>\n",
       "      <td>10.790</td>\n",
       "    </tr>\n",
       "    <tr>\n",
       "      <th>2022-02-01</th>\n",
       "      <td>4.2600</td>\n",
       "      <td>4.590</td>\n",
       "      <td>1.8140</td>\n",
       "      <td>23.18</td>\n",
       "      <td>1.762637</td>\n",
       "      <td>11.175</td>\n",
       "    </tr>\n",
       "    <tr>\n",
       "      <th>2022-02-02</th>\n",
       "      <td>4.2750</td>\n",
       "      <td>4.490</td>\n",
       "      <td>1.8620</td>\n",
       "      <td>23.19</td>\n",
       "      <td>1.772133</td>\n",
       "      <td>11.055</td>\n",
       "    </tr>\n",
       "    <tr>\n",
       "      <th>2022-02-03</th>\n",
       "      <td>4.3000</td>\n",
       "      <td>4.355</td>\n",
       "      <td>1.8260</td>\n",
       "      <td>23.12</td>\n",
       "      <td>1.771138</td>\n",
       "      <td>10.565</td>\n",
       "    </tr>\n",
       "    <tr>\n",
       "      <th>2022-02-04</th>\n",
       "      <td>4.2450</td>\n",
       "      <td>4.415</td>\n",
       "      <td>1.8000</td>\n",
       "      <td>22.99</td>\n",
       "      <td>1.726105</td>\n",
       "      <td>10.615</td>\n",
       "    </tr>\n",
       "  </tbody>\n",
       "</table>\n",
       "<p>6870 rows × 6 columns</p>\n",
       "</div>"
      ],
      "text/plain": [
       "Name        HgCapital Trust Ord  JPMorgan China Growth & Income Ord  \\\n",
       "Date                                                                  \n",
       "2003-04-16               0.2205                               0.410   \n",
       "2003-04-17               0.2205                               0.405   \n",
       "2003-04-18               0.2205                               0.405   \n",
       "2003-04-19               0.2205                               0.405   \n",
       "2003-04-20               0.2205                               0.405   \n",
       "...                         ...                                 ...   \n",
       "2022-01-31               4.1800                               4.410   \n",
       "2022-02-01               4.2600                               4.590   \n",
       "2022-02-02               4.2750                               4.490   \n",
       "2022-02-03               4.3000                               4.355   \n",
       "2022-02-04               4.2450                               4.415   \n",
       "\n",
       "Name        Montanaro European Smaller Ord  PIMCO GIS Glb Bd Instl GBPH Acc  \\\n",
       "Date                                                                          \n",
       "2003-04-16                          0.1095                             9.21   \n",
       "2003-04-17                          0.1094                             9.21   \n",
       "2003-04-18                          0.1094                             9.21   \n",
       "2003-04-19                          0.1094                             9.21   \n",
       "2003-04-20                          0.1094                             9.21   \n",
       "...                                    ...                              ...   \n",
       "2022-01-31                          1.7300                            23.20   \n",
       "2022-02-01                          1.8140                            23.18   \n",
       "2022-02-02                          1.8620                            23.19   \n",
       "2022-02-03                          1.8260                            23.12   \n",
       "2022-02-04                          1.8000                            22.99   \n",
       "\n",
       "Name        Rathbone Global Opportunities S Acc  Scottish Mortgage Ord  \n",
       "Date                                                                    \n",
       "2003-04-16                             0.136142                  0.512  \n",
       "2003-04-17                             0.134755                  0.511  \n",
       "2003-04-18                             0.134755                  0.511  \n",
       "2003-04-19                             0.134755                  0.511  \n",
       "2003-04-20                             0.134755                  0.511  \n",
       "...                                         ...                    ...  \n",
       "2022-01-31                             1.725353                 10.790  \n",
       "2022-02-01                             1.762637                 11.175  \n",
       "2022-02-02                             1.772133                 11.055  \n",
       "2022-02-03                             1.771138                 10.565  \n",
       "2022-02-04                             1.726105                 10.615  \n",
       "\n",
       "[6870 rows x 6 columns]"
      ]
     },
     "execution_count": 21,
     "metadata": {},
     "output_type": "execute_result"
    }
   ],
   "source": [
    "concatenated_df_pivot"
   ]
  },
  {
   "cell_type": "markdown",
   "metadata": {},
   "source": [
    "## Split the data"
   ]
  },
  {
   "cell_type": "code",
   "execution_count": 22,
   "metadata": {},
   "outputs": [
    {
     "data": {
      "text/html": [
       "<div>\n",
       "<style scoped>\n",
       "    .dataframe tbody tr th:only-of-type {\n",
       "        vertical-align: middle;\n",
       "    }\n",
       "\n",
       "    .dataframe tbody tr th {\n",
       "        vertical-align: top;\n",
       "    }\n",
       "\n",
       "    .dataframe thead th {\n",
       "        text-align: right;\n",
       "    }\n",
       "</style>\n",
       "<table border=\"1\" class=\"dataframe\">\n",
       "  <thead>\n",
       "    <tr style=\"text-align: right;\">\n",
       "      <th>Name</th>\n",
       "      <th>HgCapital Trust Ord</th>\n",
       "      <th>JPMorgan China Growth &amp; Income Ord</th>\n",
       "      <th>Montanaro European Smaller Ord</th>\n",
       "      <th>PIMCO GIS Glb Bd Instl GBPH Acc</th>\n",
       "      <th>Rathbone Global Opportunities S Acc</th>\n",
       "      <th>Scottish Mortgage Ord</th>\n",
       "    </tr>\n",
       "    <tr>\n",
       "      <th>Date</th>\n",
       "      <th></th>\n",
       "      <th></th>\n",
       "      <th></th>\n",
       "      <th></th>\n",
       "      <th></th>\n",
       "      <th></th>\n",
       "    </tr>\n",
       "  </thead>\n",
       "  <tbody>\n",
       "    <tr>\n",
       "      <th>2018-01-08</th>\n",
       "      <td>1.790</td>\n",
       "      <td>3.20</td>\n",
       "      <td>0.8175</td>\n",
       "      <td>21.12</td>\n",
       "      <td>1.024579</td>\n",
       "      <td>4.664</td>\n",
       "    </tr>\n",
       "    <tr>\n",
       "      <th>2018-01-09</th>\n",
       "      <td>1.795</td>\n",
       "      <td>3.20</td>\n",
       "      <td>0.8200</td>\n",
       "      <td>21.08</td>\n",
       "      <td>1.029313</td>\n",
       "      <td>4.702</td>\n",
       "    </tr>\n",
       "    <tr>\n",
       "      <th>2018-01-10</th>\n",
       "      <td>1.780</td>\n",
       "      <td>3.28</td>\n",
       "      <td>0.8300</td>\n",
       "      <td>21.07</td>\n",
       "      <td>1.028405</td>\n",
       "      <td>4.680</td>\n",
       "    </tr>\n",
       "    <tr>\n",
       "      <th>2018-01-11</th>\n",
       "      <td>1.785</td>\n",
       "      <td>3.27</td>\n",
       "      <td>0.8300</td>\n",
       "      <td>21.07</td>\n",
       "      <td>1.029313</td>\n",
       "      <td>4.682</td>\n",
       "    </tr>\n",
       "    <tr>\n",
       "      <th>2018-01-12</th>\n",
       "      <td>1.785</td>\n",
       "      <td>3.28</td>\n",
       "      <td>0.8300</td>\n",
       "      <td>21.08</td>\n",
       "      <td>1.025105</td>\n",
       "      <td>4.680</td>\n",
       "    </tr>\n",
       "    <tr>\n",
       "      <th>...</th>\n",
       "      <td>...</td>\n",
       "      <td>...</td>\n",
       "      <td>...</td>\n",
       "      <td>...</td>\n",
       "      <td>...</td>\n",
       "      <td>...</td>\n",
       "    </tr>\n",
       "    <tr>\n",
       "      <th>2019-07-10</th>\n",
       "      <td>2.180</td>\n",
       "      <td>2.88</td>\n",
       "      <td>1.1050</td>\n",
       "      <td>22.09</td>\n",
       "      <td>1.251462</td>\n",
       "      <td>5.585</td>\n",
       "    </tr>\n",
       "    <tr>\n",
       "      <th>2019-07-11</th>\n",
       "      <td>2.180</td>\n",
       "      <td>2.88</td>\n",
       "      <td>1.1125</td>\n",
       "      <td>22.06</td>\n",
       "      <td>1.251958</td>\n",
       "      <td>5.570</td>\n",
       "    </tr>\n",
       "    <tr>\n",
       "      <th>2019-07-12</th>\n",
       "      <td>2.200</td>\n",
       "      <td>2.88</td>\n",
       "      <td>1.1050</td>\n",
       "      <td>22.05</td>\n",
       "      <td>1.258306</td>\n",
       "      <td>5.505</td>\n",
       "    </tr>\n",
       "    <tr>\n",
       "      <th>2019-07-13</th>\n",
       "      <td>2.200</td>\n",
       "      <td>2.88</td>\n",
       "      <td>1.1050</td>\n",
       "      <td>22.05</td>\n",
       "      <td>1.258306</td>\n",
       "      <td>5.505</td>\n",
       "    </tr>\n",
       "    <tr>\n",
       "      <th>2019-07-14</th>\n",
       "      <td>2.200</td>\n",
       "      <td>2.88</td>\n",
       "      <td>1.1050</td>\n",
       "      <td>22.05</td>\n",
       "      <td>1.258306</td>\n",
       "      <td>5.505</td>\n",
       "    </tr>\n",
       "  </tbody>\n",
       "</table>\n",
       "<p>553 rows × 6 columns</p>\n",
       "</div>"
      ],
      "text/plain": [
       "Name        HgCapital Trust Ord  JPMorgan China Growth & Income Ord  \\\n",
       "Date                                                                  \n",
       "2018-01-08                1.790                                3.20   \n",
       "2018-01-09                1.795                                3.20   \n",
       "2018-01-10                1.780                                3.28   \n",
       "2018-01-11                1.785                                3.27   \n",
       "2018-01-12                1.785                                3.28   \n",
       "...                         ...                                 ...   \n",
       "2019-07-10                2.180                                2.88   \n",
       "2019-07-11                2.180                                2.88   \n",
       "2019-07-12                2.200                                2.88   \n",
       "2019-07-13                2.200                                2.88   \n",
       "2019-07-14                2.200                                2.88   \n",
       "\n",
       "Name        Montanaro European Smaller Ord  PIMCO GIS Glb Bd Instl GBPH Acc  \\\n",
       "Date                                                                          \n",
       "2018-01-08                          0.8175                            21.12   \n",
       "2018-01-09                          0.8200                            21.08   \n",
       "2018-01-10                          0.8300                            21.07   \n",
       "2018-01-11                          0.8300                            21.07   \n",
       "2018-01-12                          0.8300                            21.08   \n",
       "...                                    ...                              ...   \n",
       "2019-07-10                          1.1050                            22.09   \n",
       "2019-07-11                          1.1125                            22.06   \n",
       "2019-07-12                          1.1050                            22.05   \n",
       "2019-07-13                          1.1050                            22.05   \n",
       "2019-07-14                          1.1050                            22.05   \n",
       "\n",
       "Name        Rathbone Global Opportunities S Acc  Scottish Mortgage Ord  \n",
       "Date                                                                    \n",
       "2018-01-08                             1.024579                  4.664  \n",
       "2018-01-09                             1.029313                  4.702  \n",
       "2018-01-10                             1.028405                  4.680  \n",
       "2018-01-11                             1.029313                  4.682  \n",
       "2018-01-12                             1.025105                  4.680  \n",
       "...                                         ...                    ...  \n",
       "2019-07-10                             1.251462                  5.585  \n",
       "2019-07-11                             1.251958                  5.570  \n",
       "2019-07-12                             1.258306                  5.505  \n",
       "2019-07-13                             1.258306                  5.505  \n",
       "2019-07-14                             1.258306                  5.505  \n",
       "\n",
       "[553 rows x 6 columns]"
      ]
     },
     "execution_count": 22,
     "metadata": {},
     "output_type": "execute_result"
    }
   ],
   "source": [
    "train_df = concatenated_df_pivot.loc[train_start:train_end]\n",
    "train_df"
   ]
  },
  {
   "cell_type": "code",
   "execution_count": 23,
   "metadata": {},
   "outputs": [
    {
     "data": {
      "text/html": [
       "<div>\n",
       "<style scoped>\n",
       "    .dataframe tbody tr th:only-of-type {\n",
       "        vertical-align: middle;\n",
       "    }\n",
       "\n",
       "    .dataframe tbody tr th {\n",
       "        vertical-align: top;\n",
       "    }\n",
       "\n",
       "    .dataframe thead th {\n",
       "        text-align: right;\n",
       "    }\n",
       "</style>\n",
       "<table border=\"1\" class=\"dataframe\">\n",
       "  <thead>\n",
       "    <tr style=\"text-align: right;\">\n",
       "      <th>Name</th>\n",
       "      <th>HgCapital Trust Ord</th>\n",
       "      <th>JPMorgan China Growth &amp; Income Ord</th>\n",
       "      <th>Montanaro European Smaller Ord</th>\n",
       "      <th>PIMCO GIS Glb Bd Instl GBPH Acc</th>\n",
       "      <th>Rathbone Global Opportunities S Acc</th>\n",
       "      <th>Scottish Mortgage Ord</th>\n",
       "    </tr>\n",
       "    <tr>\n",
       "      <th>Date</th>\n",
       "      <th></th>\n",
       "      <th></th>\n",
       "      <th></th>\n",
       "      <th></th>\n",
       "      <th></th>\n",
       "      <th></th>\n",
       "    </tr>\n",
       "  </thead>\n",
       "  <tbody>\n",
       "    <tr>\n",
       "      <th>2019-07-15</th>\n",
       "      <td>2.180</td>\n",
       "      <td>2.880</td>\n",
       "      <td>1.1100</td>\n",
       "      <td>22.08</td>\n",
       "      <td>1.260435</td>\n",
       "      <td>5.535</td>\n",
       "    </tr>\n",
       "    <tr>\n",
       "      <th>2019-07-16</th>\n",
       "      <td>2.180</td>\n",
       "      <td>2.915</td>\n",
       "      <td>1.1050</td>\n",
       "      <td>22.07</td>\n",
       "      <td>1.274223</td>\n",
       "      <td>5.615</td>\n",
       "    </tr>\n",
       "    <tr>\n",
       "      <th>2019-07-17</th>\n",
       "      <td>2.190</td>\n",
       "      <td>2.905</td>\n",
       "      <td>1.1025</td>\n",
       "      <td>22.11</td>\n",
       "      <td>1.271670</td>\n",
       "      <td>5.560</td>\n",
       "    </tr>\n",
       "    <tr>\n",
       "      <th>2019-07-18</th>\n",
       "      <td>2.180</td>\n",
       "      <td>2.875</td>\n",
       "      <td>1.0975</td>\n",
       "      <td>22.14</td>\n",
       "      <td>1.261862</td>\n",
       "      <td>5.475</td>\n",
       "    </tr>\n",
       "    <tr>\n",
       "      <th>2019-07-19</th>\n",
       "      <td>2.185</td>\n",
       "      <td>2.885</td>\n",
       "      <td>1.0950</td>\n",
       "      <td>22.15</td>\n",
       "      <td>1.260793</td>\n",
       "      <td>5.485</td>\n",
       "    </tr>\n",
       "    <tr>\n",
       "      <th>...</th>\n",
       "      <td>...</td>\n",
       "      <td>...</td>\n",
       "      <td>...</td>\n",
       "      <td>...</td>\n",
       "      <td>...</td>\n",
       "      <td>...</td>\n",
       "    </tr>\n",
       "    <tr>\n",
       "      <th>2022-01-31</th>\n",
       "      <td>4.180</td>\n",
       "      <td>4.410</td>\n",
       "      <td>1.7300</td>\n",
       "      <td>23.20</td>\n",
       "      <td>1.725353</td>\n",
       "      <td>10.790</td>\n",
       "    </tr>\n",
       "    <tr>\n",
       "      <th>2022-02-01</th>\n",
       "      <td>4.260</td>\n",
       "      <td>4.590</td>\n",
       "      <td>1.8140</td>\n",
       "      <td>23.18</td>\n",
       "      <td>1.762637</td>\n",
       "      <td>11.175</td>\n",
       "    </tr>\n",
       "    <tr>\n",
       "      <th>2022-02-02</th>\n",
       "      <td>4.275</td>\n",
       "      <td>4.490</td>\n",
       "      <td>1.8620</td>\n",
       "      <td>23.19</td>\n",
       "      <td>1.772133</td>\n",
       "      <td>11.055</td>\n",
       "    </tr>\n",
       "    <tr>\n",
       "      <th>2022-02-03</th>\n",
       "      <td>4.300</td>\n",
       "      <td>4.355</td>\n",
       "      <td>1.8260</td>\n",
       "      <td>23.12</td>\n",
       "      <td>1.771138</td>\n",
       "      <td>10.565</td>\n",
       "    </tr>\n",
       "    <tr>\n",
       "      <th>2022-02-04</th>\n",
       "      <td>4.245</td>\n",
       "      <td>4.415</td>\n",
       "      <td>1.8000</td>\n",
       "      <td>22.99</td>\n",
       "      <td>1.726105</td>\n",
       "      <td>10.615</td>\n",
       "    </tr>\n",
       "  </tbody>\n",
       "</table>\n",
       "<p>936 rows × 6 columns</p>\n",
       "</div>"
      ],
      "text/plain": [
       "Name        HgCapital Trust Ord  JPMorgan China Growth & Income Ord  \\\n",
       "Date                                                                  \n",
       "2019-07-15                2.180                               2.880   \n",
       "2019-07-16                2.180                               2.915   \n",
       "2019-07-17                2.190                               2.905   \n",
       "2019-07-18                2.180                               2.875   \n",
       "2019-07-19                2.185                               2.885   \n",
       "...                         ...                                 ...   \n",
       "2022-01-31                4.180                               4.410   \n",
       "2022-02-01                4.260                               4.590   \n",
       "2022-02-02                4.275                               4.490   \n",
       "2022-02-03                4.300                               4.355   \n",
       "2022-02-04                4.245                               4.415   \n",
       "\n",
       "Name        Montanaro European Smaller Ord  PIMCO GIS Glb Bd Instl GBPH Acc  \\\n",
       "Date                                                                          \n",
       "2019-07-15                          1.1100                            22.08   \n",
       "2019-07-16                          1.1050                            22.07   \n",
       "2019-07-17                          1.1025                            22.11   \n",
       "2019-07-18                          1.0975                            22.14   \n",
       "2019-07-19                          1.0950                            22.15   \n",
       "...                                    ...                              ...   \n",
       "2022-01-31                          1.7300                            23.20   \n",
       "2022-02-01                          1.8140                            23.18   \n",
       "2022-02-02                          1.8620                            23.19   \n",
       "2022-02-03                          1.8260                            23.12   \n",
       "2022-02-04                          1.8000                            22.99   \n",
       "\n",
       "Name        Rathbone Global Opportunities S Acc  Scottish Mortgage Ord  \n",
       "Date                                                                    \n",
       "2019-07-15                             1.260435                  5.535  \n",
       "2019-07-16                             1.274223                  5.615  \n",
       "2019-07-17                             1.271670                  5.560  \n",
       "2019-07-18                             1.261862                  5.475  \n",
       "2019-07-19                             1.260793                  5.485  \n",
       "...                                         ...                    ...  \n",
       "2022-01-31                             1.725353                 10.790  \n",
       "2022-02-01                             1.762637                 11.175  \n",
       "2022-02-02                             1.772133                 11.055  \n",
       "2022-02-03                             1.771138                 10.565  \n",
       "2022-02-04                             1.726105                 10.615  \n",
       "\n",
       "[936 rows x 6 columns]"
      ]
     },
     "execution_count": 23,
     "metadata": {},
     "output_type": "execute_result"
    }
   ],
   "source": [
    "test_df = concatenated_df_pivot.loc[test_start:test_end]\n",
    "test_df"
   ]
  },
  {
   "cell_type": "markdown",
   "metadata": {},
   "source": [
    "## Calculating the covariance matrix"
   ]
  },
  {
   "cell_type": "code",
   "execution_count": 24,
   "metadata": {},
   "outputs": [
    {
     "data": {
      "text/plain": [
       "'1.5.1'"
      ]
     },
     "execution_count": 24,
     "metadata": {},
     "output_type": "execute_result"
    }
   ],
   "source": [
    "import pypfopt\n",
    "pypfopt.__version__"
   ]
  },
  {
   "cell_type": "code",
   "execution_count": 25,
   "metadata": {},
   "outputs": [
    {
     "data": {
      "text/html": [
       "<div>\n",
       "<style scoped>\n",
       "    .dataframe tbody tr th:only-of-type {\n",
       "        vertical-align: middle;\n",
       "    }\n",
       "\n",
       "    .dataframe tbody tr th {\n",
       "        vertical-align: top;\n",
       "    }\n",
       "\n",
       "    .dataframe thead th {\n",
       "        text-align: right;\n",
       "    }\n",
       "</style>\n",
       "<table border=\"1\" class=\"dataframe\">\n",
       "  <thead>\n",
       "    <tr style=\"text-align: right;\">\n",
       "      <th>Name</th>\n",
       "      <th>HgCapital Trust Ord</th>\n",
       "      <th>JPMorgan China Growth &amp; Income Ord</th>\n",
       "      <th>Montanaro European Smaller Ord</th>\n",
       "      <th>PIMCO GIS Glb Bd Instl GBPH Acc</th>\n",
       "      <th>Rathbone Global Opportunities S Acc</th>\n",
       "      <th>Scottish Mortgage Ord</th>\n",
       "    </tr>\n",
       "    <tr>\n",
       "      <th>Name</th>\n",
       "      <th></th>\n",
       "      <th></th>\n",
       "      <th></th>\n",
       "      <th></th>\n",
       "      <th></th>\n",
       "      <th></th>\n",
       "    </tr>\n",
       "  </thead>\n",
       "  <tbody>\n",
       "    <tr>\n",
       "      <th>HgCapital Trust Ord</th>\n",
       "      <td>0.021247</td>\n",
       "      <td>0.007299</td>\n",
       "      <td>0.004241</td>\n",
       "      <td>-0.000113</td>\n",
       "      <td>0.002651</td>\n",
       "      <td>0.007916</td>\n",
       "    </tr>\n",
       "    <tr>\n",
       "      <th>JPMorgan China Growth &amp; Income Ord</th>\n",
       "      <td>0.007299</td>\n",
       "      <td>0.060225</td>\n",
       "      <td>0.015990</td>\n",
       "      <td>-0.000062</td>\n",
       "      <td>0.009053</td>\n",
       "      <td>0.025551</td>\n",
       "    </tr>\n",
       "    <tr>\n",
       "      <th>Montanaro European Smaller Ord</th>\n",
       "      <td>0.004241</td>\n",
       "      <td>0.015990</td>\n",
       "      <td>0.023198</td>\n",
       "      <td>-0.000046</td>\n",
       "      <td>0.005501</td>\n",
       "      <td>0.015393</td>\n",
       "    </tr>\n",
       "    <tr>\n",
       "      <th>PIMCO GIS Glb Bd Instl GBPH Acc</th>\n",
       "      <td>-0.000113</td>\n",
       "      <td>-0.000062</td>\n",
       "      <td>-0.000046</td>\n",
       "      <td>0.000202</td>\n",
       "      <td>0.000122</td>\n",
       "      <td>-0.000090</td>\n",
       "    </tr>\n",
       "    <tr>\n",
       "      <th>Rathbone Global Opportunities S Acc</th>\n",
       "      <td>0.002651</td>\n",
       "      <td>0.009053</td>\n",
       "      <td>0.005501</td>\n",
       "      <td>0.000122</td>\n",
       "      <td>0.016969</td>\n",
       "      <td>0.012257</td>\n",
       "    </tr>\n",
       "    <tr>\n",
       "      <th>Scottish Mortgage Ord</th>\n",
       "      <td>0.007916</td>\n",
       "      <td>0.025551</td>\n",
       "      <td>0.015393</td>\n",
       "      <td>-0.000090</td>\n",
       "      <td>0.012257</td>\n",
       "      <td>0.043802</td>\n",
       "    </tr>\n",
       "  </tbody>\n",
       "</table>\n",
       "</div>"
      ],
      "text/plain": [
       "Name                                 HgCapital Trust Ord  \\\n",
       "Name                                                       \n",
       "HgCapital Trust Ord                             0.021247   \n",
       "JPMorgan China Growth & Income Ord              0.007299   \n",
       "Montanaro European Smaller Ord                  0.004241   \n",
       "PIMCO GIS Glb Bd Instl GBPH Acc                -0.000113   \n",
       "Rathbone Global Opportunities S Acc             0.002651   \n",
       "Scottish Mortgage Ord                           0.007916   \n",
       "\n",
       "Name                                 JPMorgan China Growth & Income Ord  \\\n",
       "Name                                                                      \n",
       "HgCapital Trust Ord                                            0.007299   \n",
       "JPMorgan China Growth & Income Ord                             0.060225   \n",
       "Montanaro European Smaller Ord                                 0.015990   \n",
       "PIMCO GIS Glb Bd Instl GBPH Acc                               -0.000062   \n",
       "Rathbone Global Opportunities S Acc                            0.009053   \n",
       "Scottish Mortgage Ord                                          0.025551   \n",
       "\n",
       "Name                                 Montanaro European Smaller Ord  \\\n",
       "Name                                                                  \n",
       "HgCapital Trust Ord                                        0.004241   \n",
       "JPMorgan China Growth & Income Ord                         0.015990   \n",
       "Montanaro European Smaller Ord                             0.023198   \n",
       "PIMCO GIS Glb Bd Instl GBPH Acc                           -0.000046   \n",
       "Rathbone Global Opportunities S Acc                        0.005501   \n",
       "Scottish Mortgage Ord                                      0.015393   \n",
       "\n",
       "Name                                 PIMCO GIS Glb Bd Instl GBPH Acc  \\\n",
       "Name                                                                   \n",
       "HgCapital Trust Ord                                        -0.000113   \n",
       "JPMorgan China Growth & Income Ord                         -0.000062   \n",
       "Montanaro European Smaller Ord                             -0.000046   \n",
       "PIMCO GIS Glb Bd Instl GBPH Acc                             0.000202   \n",
       "Rathbone Global Opportunities S Acc                         0.000122   \n",
       "Scottish Mortgage Ord                                      -0.000090   \n",
       "\n",
       "Name                                 Rathbone Global Opportunities S Acc  \\\n",
       "Name                                                                       \n",
       "HgCapital Trust Ord                                             0.002651   \n",
       "JPMorgan China Growth & Income Ord                              0.009053   \n",
       "Montanaro European Smaller Ord                                  0.005501   \n",
       "PIMCO GIS Glb Bd Instl GBPH Acc                                 0.000122   \n",
       "Rathbone Global Opportunities S Acc                             0.016969   \n",
       "Scottish Mortgage Ord                                           0.012257   \n",
       "\n",
       "Name                                 Scottish Mortgage Ord  \n",
       "Name                                                        \n",
       "HgCapital Trust Ord                               0.007916  \n",
       "JPMorgan China Growth & Income Ord                0.025551  \n",
       "Montanaro European Smaller Ord                    0.015393  \n",
       "PIMCO GIS Glb Bd Instl GBPH Acc                  -0.000090  \n",
       "Rathbone Global Opportunities S Acc               0.012257  \n",
       "Scottish Mortgage Ord                             0.043802  "
      ]
     },
     "execution_count": 25,
     "metadata": {},
     "output_type": "execute_result"
    }
   ],
   "source": [
    "from pypfopt import risk_models\n",
    "from pypfopt import plotting\n",
    "\n",
    "sample_cov = risk_models.sample_cov(train_df, frequency=252)\n",
    "sample_cov"
   ]
  },
  {
   "cell_type": "code",
   "execution_count": 26,
   "metadata": {},
   "outputs": [
    {
     "data": {
      "text/plain": [
       "<matplotlib.axes._subplots.AxesSubplot at 0x22067ecbdc0>"
      ]
     },
     "execution_count": 26,
     "metadata": {},
     "output_type": "execute_result"
    },
    {
     "data": {
      "image/png": "[encoded data removed]",
      "text/plain": [
       "<Figure size 432x288 with 2 Axes>"
      ]
     },
     "metadata": {
      "needs_background": "light"
     },
     "output_type": "display_data"
    }
   ],
   "source": [
    "plotting.plot_covariance(sample_cov, plot_correlation=True)"
   ]
  },
  {
   "cell_type": "markdown",
   "metadata": {},
   "source": [
    "## Return estimation"
   ]
  },
  {
   "cell_type": "code",
   "execution_count": 27,
   "metadata": {},
   "outputs": [
    {
     "data": {
      "text/plain": [
       "Name\n",
       "HgCapital Trust Ord                    0.056634\n",
       "JPMorgan China Growth & Income Ord     0.120015\n",
       "Montanaro European Smaller Ord         0.074456\n",
       "PIMCO GIS Glb Bd Instl GBPH Acc        0.020011\n",
       "Rathbone Global Opportunities S Acc    0.059440\n",
       "Scottish Mortgage Ord                  0.108811\n",
       "Name: mkt, dtype: float64"
      ]
     },
     "execution_count": 27,
     "metadata": {},
     "output_type": "execute_result"
    }
   ],
   "source": [
    "from pypfopt import expected_returns\n",
    "\n",
    "mu = expected_returns.capm_return(train_df)\n",
    "mu"
   ]
  },
  {
   "cell_type": "markdown",
   "metadata": {},
   "source": [
    "## Manual Weights"
   ]
  },
  {
   "cell_type": "code",
   "execution_count": 28,
   "metadata": {},
   "outputs": [],
   "source": [
    "if manual_weights:\n",
    "    concatenated_df['Name'].unique()\n",
    "    initial_weights = [0.2, 0.2, 0.2, 0.2, 0.1, 0.1]\n",
    "    unique_fund_names = concatenated_df['Name'].unique()\n",
    "\n",
    "    iterator = zip(unique_fund_names.tolist(), initial_weights)\n",
    "    comb_weights = dict(iterator)\n",
    "    comb_weights\n",
    "    generate_performance_metrics(prices_pivot = train_df, benchmark = 'SPY', title = 'manual_weights', prefix_name = prefix_name, file_text = 'manual_weights', weights = comb_weights)\n",
    "\n"
   ]
  },
  {
   "cell_type": "markdown",
   "metadata": {},
   "source": [
    "## Long/short min variance"
   ]
  },
  {
   "cell_type": "code",
   "execution_count": 29,
   "metadata": {},
   "outputs": [],
   "source": [
    "from pypfopt import EfficientFrontier"
   ]
  },
  {
   "cell_type": "code",
   "execution_count": 30,
   "metadata": {},
   "outputs": [
    {
     "data": {
      "text/plain": [
       "OrderedDict([('HgCapital Trust Ord', 0.20579),\n",
       "             ('JPMorgan China Growth & Income Ord', 0.0),\n",
       "             ('Montanaro European Smaller Ord', 0.14927),\n",
       "             ('PIMCO GIS Glb Bd Instl GBPH Acc', 0.4),\n",
       "             ('Rathbone Global Opportunities S Acc', 0.24494),\n",
       "             ('Scottish Mortgage Ord', 0.0)])"
      ]
     },
     "execution_count": 30,
     "metadata": {},
     "output_type": "execute_result"
    }
   ],
   "source": [
    "S = risk_models.CovarianceShrinkage(train_df).ledoit_wolf()\n",
    "\n",
    "# You don't have to provide expected returns in this case\n",
    "ef = EfficientFrontier(None, S, weight_bounds=(0, 0.4))\n",
    "ef.min_volatility()\n",
    "weights = ef.clean_weights()\n",
    "weights"
   ]
  },
  {
   "cell_type": "code",
   "execution_count": 31,
   "metadata": {},
   "outputs": [
    {
     "name": "stdout",
     "output_type": "stream",
     "text": [
      "Annual volatility: 6.0%\n"
     ]
    }
   ],
   "source": [
    "ef.portfolio_performance(verbose=True);"
   ]
  },
  {
   "cell_type": "code",
   "execution_count": 32,
   "metadata": {},
   "outputs": [],
   "source": [
    "generate_performance_metrics(prices_pivot = train_df, benchmark = 'SPY', title = 'min_variance_train', prefix_name = prefix_name, file_text = 'min_variance_train', weights = weights)"
   ]
  },
  {
   "cell_type": "code",
   "execution_count": 33,
   "metadata": {},
   "outputs": [],
   "source": [
    "generate_performance_metrics(prices_pivot = test_df, benchmark = 'SPY', title = 'min_variance_test', prefix_name = prefix_name, file_text = 'min_variance_test', weights = weights)"
   ]
  },
  {
   "cell_type": "markdown",
   "metadata": {},
   "source": [
    "## Max Sharpe"
   ]
  },
  {
   "cell_type": "code",
   "execution_count": 34,
   "metadata": {},
   "outputs": [
    {
     "data": {
      "text/plain": [
       "OrderedDict([('HgCapital Trust Ord', 0.18948),\n",
       "             ('JPMorgan China Growth & Income Ord', 0.19706),\n",
       "             ('Montanaro European Smaller Ord', 0.19159),\n",
       "             ('PIMCO GIS Glb Bd Instl GBPH Acc', 0.03383),\n",
       "             ('Rathbone Global Opportunities S Acc', 0.19009),\n",
       "             ('Scottish Mortgage Ord', 0.19794)])"
      ]
     },
     "execution_count": 34,
     "metadata": {},
     "output_type": "execute_result"
    }
   ],
   "source": [
    "S = risk_models.CovarianceShrinkage(train_df).ledoit_wolf()\n",
    "\n",
    "# You don't have to provide expected returns in this case\n",
    "ef = EfficientFrontier(mu, S)\n",
    "ef.max_sharpe()\n",
    "weights = ef.clean_weights()\n",
    "weights"
   ]
  },
  {
   "cell_type": "code",
   "execution_count": 35,
   "metadata": {},
   "outputs": [
    {
     "name": "stdout",
     "output_type": "stream",
     "text": [
      "Expected annual return: 8.2%\n",
      "Annual volatility: 11.8%\n",
      "Sharpe Ratio: 0.53\n"
     ]
    }
   ],
   "source": [
    "ef.portfolio_performance(verbose=True);"
   ]
  },
  {
   "cell_type": "code",
   "execution_count": 36,
   "metadata": {},
   "outputs": [],
   "source": [
    "generate_performance_metrics(prices_pivot = train_df, benchmark = 'SPY', title = 'max_sharpe_train', prefix_name = prefix_name, file_text = 'max_sharpe_train', weights = weights)"
   ]
  },
  {
   "cell_type": "code",
   "execution_count": 37,
   "metadata": {},
   "outputs": [],
   "source": [
    "generate_performance_metrics(prices_pivot = test_df, benchmark = 'SPY', title = 'max_sharpe_test', prefix_name = prefix_name, file_text = 'max_sharpe_test', weights = weights)"
   ]
  },
  {
   "cell_type": "markdown",
   "metadata": {},
   "source": [
    "## Maximise return for a given risk, with L2 regularisation"
   ]
  },
  {
   "cell_type": "code",
   "execution_count": 38,
   "metadata": {},
   "outputs": [
    {
     "data": {
      "text/plain": [
       "OrderedDict([('HgCapital Trust Ord', 0.13725),\n",
       "             ('JPMorgan China Growth & Income Ord', 0.12749),\n",
       "             ('Montanaro European Smaller Ord', 0.13453),\n",
       "             ('PIMCO GIS Glb Bd Instl GBPH Acc', 0.33794),\n",
       "             ('Rathbone Global Opportunities S Acc', 0.13646),\n",
       "             ('Scottish Mortgage Ord', 0.12634)])"
      ]
     },
     "execution_count": 38,
     "metadata": {},
     "output_type": "execute_result"
    }
   ],
   "source": [
    "ef = EfficientFrontier(mu, S)\n",
    "ef.efficient_risk(target_volatility=0.08)\n",
    "weights = ef.clean_weights()\n",
    "weights"
   ]
  },
  {
   "cell_type": "code",
   "execution_count": 39,
   "metadata": {},
   "outputs": [
    {
     "name": "stdout",
     "output_type": "stream",
     "text": [
      "Expected annual return: 6.2%\n",
      "Annual volatility: 8.0%\n",
      "Sharpe Ratio: 0.52\n"
     ]
    },
    {
     "data": {
      "text/plain": [
       "(0.06171045716371297, 0.08000000017849525, 0.5213807133831123)"
      ]
     },
     "execution_count": 39,
     "metadata": {},
     "output_type": "execute_result"
    }
   ],
   "source": [
    "ef.portfolio_performance(verbose=True)"
   ]
  },
  {
   "cell_type": "code",
   "execution_count": 40,
   "metadata": {},
   "outputs": [],
   "source": [
    "generate_performance_metrics(prices_pivot = train_df, benchmark = 'SPY', title = 'max_return_given_risk_train', prefix_name = prefix_name, file_text = 'max_return_given_risk_train', weights = weights)"
   ]
  },
  {
   "cell_type": "code",
   "execution_count": 41,
   "metadata": {},
   "outputs": [],
   "source": [
    "generate_performance_metrics(prices_pivot = test_df, benchmark = 'SPY', title = 'max_return_given_risk_test', prefix_name = prefix_name, file_text = 'max_return_given_risk_test', weights = weights)"
   ]
  },
  {
   "cell_type": "markdown",
   "metadata": {},
   "source": [
    "## L2 Regularisation"
   ]
  },
  {
   "cell_type": "code",
   "execution_count": 42,
   "metadata": {},
   "outputs": [
    {
     "data": {
      "text/plain": [
       "OrderedDict([('HgCapital Trust Ord', 0.09364),\n",
       "             ('JPMorgan China Growth & Income Ord', 0.34004),\n",
       "             ('Montanaro European Smaller Ord', 0.16269),\n",
       "             ('PIMCO GIS Glb Bd Instl GBPH Acc', 0.0),\n",
       "             ('Rathbone Global Opportunities S Acc', 0.10244),\n",
       "             ('Scottish Mortgage Ord', 0.30119)])"
      ]
     },
     "execution_count": 42,
     "metadata": {},
     "output_type": "execute_result"
    }
   ],
   "source": [
    "from pypfopt import objective_functions\n",
    "\n",
    "# You must always create a new efficient frontier object\n",
    "ef = EfficientFrontier(mu, S)\n",
    "ef.add_objective(objective_functions.L2_reg, gamma=0.1)  # gamme is the tuning parameter\n",
    "ef.efficient_risk(0.15)\n",
    "weights = ef.clean_weights()\n",
    "weights"
   ]
  },
  {
   "cell_type": "code",
   "execution_count": 43,
   "metadata": {},
   "outputs": [
    {
     "name": "stdout",
     "output_type": "stream",
     "text": [
      "Expected annual return: 9.7%\n",
      "Annual volatility: 15.0%\n",
      "Sharpe Ratio: 0.51\n"
     ]
    },
    {
     "data": {
      "text/plain": [
       "(0.0970877427627223, 0.1499999998881319, 0.5139182854680892)"
      ]
     },
     "execution_count": 43,
     "metadata": {},
     "output_type": "execute_result"
    }
   ],
   "source": [
    "ef.portfolio_performance(verbose=True)"
   ]
  },
  {
   "cell_type": "code",
   "execution_count": 44,
   "metadata": {},
   "outputs": [],
   "source": [
    "generate_performance_metrics(prices_pivot = train_df, benchmark = 'SPY', title = 'max_return_l2_reg_train', prefix_name = prefix_name, file_text = 'max_return_L2_reg_train', weights = weights)"
   ]
  },
  {
   "cell_type": "code",
   "execution_count": 45,
   "metadata": {},
   "outputs": [],
   "source": [
    "generate_performance_metrics(prices_pivot = test_df, benchmark = 'SPY', title = 'max_return_l2_reg_test', prefix_name = prefix_name, file_text = 'max_return_L2_reg_test', weights = weights)"
   ]
  },
  {
   "cell_type": "markdown",
   "metadata": {},
   "source": [
    "## Efficient semi-variance optimization"
   ]
  },
  {
   "cell_type": "code",
   "execution_count": 46,
   "metadata": {},
   "outputs": [
    {
     "data": {
      "image/png": "[encoded data removed]",
      "text/plain": [
       "<Figure size 432x288 with 2 Axes>"
      ]
     },
     "metadata": {
      "needs_background": "light"
     },
     "output_type": "display_data"
    }
   ],
   "source": [
    "semicov = risk_models.semicovariance(train_df, benchmark=0)\n",
    "plotting.plot_covariance(semicov);"
   ]
  },
  {
   "cell_type": "code",
   "execution_count": 47,
   "metadata": {},
   "outputs": [
    {
     "data": {
      "text/plain": [
       "OrderedDict([('HgCapital Trust Ord', 0.04533),\n",
       "             ('JPMorgan China Growth & Income Ord', 0.14668),\n",
       "             ('Montanaro European Smaller Ord', 0.13832),\n",
       "             ('PIMCO GIS Glb Bd Instl GBPH Acc', 0.46441),\n",
       "             ('Rathbone Global Opportunities S Acc', 0.0425),\n",
       "             ('Scottish Mortgage Ord', 0.16276)])"
      ]
     },
     "execution_count": 47,
     "metadata": {},
     "output_type": "execute_result"
    }
   ],
   "source": [
    "ef = EfficientFrontier(mu, semicov)\n",
    "ef.efficient_return(0.06)\n",
    "weights = ef.clean_weights()\n",
    "weights"
   ]
  },
  {
   "cell_type": "code",
   "execution_count": 48,
   "metadata": {},
   "outputs": [
    {
     "name": "stdout",
     "output_type": "stream",
     "text": [
      "Expected annual return: 6.0%\n",
      "Annual volatility: 6.1%\n",
      "Sharpe Ratio: 0.66\n"
     ]
    }
   ],
   "source": [
    "ef.portfolio_performance(verbose=True);"
   ]
  },
  {
   "cell_type": "code",
   "execution_count": 49,
   "metadata": {},
   "outputs": [],
   "source": [
    "generate_performance_metrics(prices_pivot = train_df, benchmark = 'SPY', title = 'semi_var_opt_train', prefix_name = prefix_name, file_text = 'semi_var_opt_train', weights = weights)"
   ]
  },
  {
   "cell_type": "code",
   "execution_count": 50,
   "metadata": {},
   "outputs": [],
   "source": [
    "generate_performance_metrics(prices_pivot = test_df, benchmark = 'SPY', title = 'semi_var_opt_train_test', prefix_name = prefix_name, file_text = 'semi_var_opt_train_test', weights = weights)"
   ]
  },
  {
   "cell_type": "markdown",
   "metadata": {},
   "source": [
    "## Efficient CVaR optimization"
   ]
  },
  {
   "cell_type": "code",
   "execution_count": 51,
   "metadata": {},
   "outputs": [
    {
     "data": {
      "text/html": [
       "<div>\n",
       "<style scoped>\n",
       "    .dataframe tbody tr th:only-of-type {\n",
       "        vertical-align: middle;\n",
       "    }\n",
       "\n",
       "    .dataframe tbody tr th {\n",
       "        vertical-align: top;\n",
       "    }\n",
       "\n",
       "    .dataframe thead th {\n",
       "        text-align: right;\n",
       "    }\n",
       "</style>\n",
       "<table border=\"1\" class=\"dataframe\">\n",
       "  <thead>\n",
       "    <tr style=\"text-align: right;\">\n",
       "      <th>Name</th>\n",
       "      <th>HgCapital Trust Ord</th>\n",
       "      <th>JPMorgan China Growth &amp; Income Ord</th>\n",
       "      <th>Montanaro European Smaller Ord</th>\n",
       "      <th>PIMCO GIS Glb Bd Instl GBPH Acc</th>\n",
       "      <th>Rathbone Global Opportunities S Acc</th>\n",
       "      <th>Scottish Mortgage Ord</th>\n",
       "    </tr>\n",
       "    <tr>\n",
       "      <th>Date</th>\n",
       "      <th></th>\n",
       "      <th></th>\n",
       "      <th></th>\n",
       "      <th></th>\n",
       "      <th></th>\n",
       "      <th></th>\n",
       "    </tr>\n",
       "  </thead>\n",
       "  <tbody>\n",
       "    <tr>\n",
       "      <th>2018-01-09</th>\n",
       "      <td>0.002793</td>\n",
       "      <td>0.000000</td>\n",
       "      <td>0.003058</td>\n",
       "      <td>-0.001894</td>\n",
       "      <td>0.004621</td>\n",
       "      <td>0.008148</td>\n",
       "    </tr>\n",
       "    <tr>\n",
       "      <th>2018-01-10</th>\n",
       "      <td>-0.008357</td>\n",
       "      <td>0.025000</td>\n",
       "      <td>0.012195</td>\n",
       "      <td>-0.000474</td>\n",
       "      <td>-0.000883</td>\n",
       "      <td>-0.004679</td>\n",
       "    </tr>\n",
       "    <tr>\n",
       "      <th>2018-01-11</th>\n",
       "      <td>0.002809</td>\n",
       "      <td>-0.003049</td>\n",
       "      <td>0.000000</td>\n",
       "      <td>0.000000</td>\n",
       "      <td>0.000883</td>\n",
       "      <td>0.000427</td>\n",
       "    </tr>\n",
       "    <tr>\n",
       "      <th>2018-01-12</th>\n",
       "      <td>0.000000</td>\n",
       "      <td>0.003058</td>\n",
       "      <td>0.000000</td>\n",
       "      <td>0.000475</td>\n",
       "      <td>-0.004088</td>\n",
       "      <td>-0.000427</td>\n",
       "    </tr>\n",
       "    <tr>\n",
       "      <th>2018-01-13</th>\n",
       "      <td>0.000000</td>\n",
       "      <td>0.000000</td>\n",
       "      <td>0.000000</td>\n",
       "      <td>0.000000</td>\n",
       "      <td>0.000000</td>\n",
       "      <td>0.000000</td>\n",
       "    </tr>\n",
       "  </tbody>\n",
       "</table>\n",
       "</div>"
      ],
      "text/plain": [
       "Name        HgCapital Trust Ord  JPMorgan China Growth & Income Ord  \\\n",
       "Date                                                                  \n",
       "2018-01-09             0.002793                            0.000000   \n",
       "2018-01-10            -0.008357                            0.025000   \n",
       "2018-01-11             0.002809                           -0.003049   \n",
       "2018-01-12             0.000000                            0.003058   \n",
       "2018-01-13             0.000000                            0.000000   \n",
       "\n",
       "Name        Montanaro European Smaller Ord  PIMCO GIS Glb Bd Instl GBPH Acc  \\\n",
       "Date                                                                          \n",
       "2018-01-09                        0.003058                        -0.001894   \n",
       "2018-01-10                        0.012195                        -0.000474   \n",
       "2018-01-11                        0.000000                         0.000000   \n",
       "2018-01-12                        0.000000                         0.000475   \n",
       "2018-01-13                        0.000000                         0.000000   \n",
       "\n",
       "Name        Rathbone Global Opportunities S Acc  Scottish Mortgage Ord  \n",
       "Date                                                                    \n",
       "2018-01-09                             0.004621               0.008148  \n",
       "2018-01-10                            -0.000883              -0.004679  \n",
       "2018-01-11                             0.000883               0.000427  \n",
       "2018-01-12                            -0.004088              -0.000427  \n",
       "2018-01-13                             0.000000               0.000000  "
      ]
     },
     "execution_count": 51,
     "metadata": {},
     "output_type": "execute_result"
    }
   ],
   "source": [
    "returns = expected_returns.returns_from_prices(train_df).dropna()\n",
    "returns.head()"
   ]
  },
  {
   "cell_type": "code",
   "execution_count": 52,
   "metadata": {},
   "outputs": [
    {
     "name": "stdout",
     "output_type": "stream",
     "text": [
      "Expected annual return: 8.2%\n",
      "Annual volatility: 11.8%\n",
      "Sharpe Ratio: 0.53\n"
     ]
    }
   ],
   "source": [
    "ef = EfficientFrontier(mu, S)\n",
    "ef.max_sharpe()\n",
    "weight_arr = ef.weights\n",
    "ef.portfolio_performance(verbose=True);"
   ]
  },
  {
   "cell_type": "markdown",
   "metadata": {},
   "source": [
    "## Plotting - Unconstrained"
   ]
  },
  {
   "cell_type": "code",
   "execution_count": 53,
   "metadata": {},
   "outputs": [
    {
     "name": "stdout",
     "output_type": "stream",
     "text": [
      "Expected annual return: 3.5%\n",
      "Annual volatility: 3.8%\n",
      "Sharpe Ratio: 0.40\n"
     ]
    }
   ],
   "source": [
    "from pypfopt import CLA, plotting\n",
    "\n",
    "cla = CLA(mu, S)\n",
    "cla.max_sharpe()\n",
    "cla.portfolio_performance(verbose=True);"
   ]
  },
  {
   "cell_type": "code",
   "execution_count": 54,
   "metadata": {},
   "outputs": [
    {
     "data": {
      "image/png": "[encoded data removed]",
      "text/plain": [
       "<Figure size 432x288 with 1 Axes>"
      ]
     },
     "metadata": {
      "needs_background": "light"
     },
     "output_type": "display_data"
    }
   ],
   "source": [
    "ax = plotting.plot_efficient_frontier(cla, showfig=False)"
   ]
  }
 ],
 "metadata": {
  "interpreter": {
   "hash": "41e2953d7975b11ba52acd54a0402d4c01af6c1ef4291ed75078867906c594d9"
  },
  "kernelspec": {
   "display_name": "Python 3",
   "language": "python",
   "name": "python3"
  },
  "language_info": {
   "codemirror_mode": {
    "name": "ipython",
    "version": 3
   },
   "file_extension": ".py",
   "mimetype": "text/x-python",
   "name": "python",
   "nbconvert_exporter": "python",
   "pygments_lexer": "ipython3",
   "version": "3.9.7"
  }
 },
 "nbformat": 4,
 "nbformat_minor": 2
}
