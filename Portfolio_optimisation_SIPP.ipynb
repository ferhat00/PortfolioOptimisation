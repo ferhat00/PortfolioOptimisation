{
 "cells": [
  {
   "cell_type": "code",
   "execution_count": 2,
   "metadata": {},
   "outputs": [],
   "source": [
    "import numpy as np\n",
    "import pandas as pd\n",
    "import matplotlib.pyplot as plt\n",
    "import pandas_datareader as pdr\n",
    "import statsmodels.api as sm\n",
    "import scipy.stats as scs\n",
    "import glob\n",
    "import os"
   ]
  },
  {
   "cell_type": "code",
   "execution_count": 28,
   "metadata": {},
   "outputs": [],
   "source": [
    "path = r'C:\\Users\\Ferhat\\Python Code\\Github\\Portfolio_Optimisation\\PortfolioOptimisation\\fund_series'                     # use your path\n",
    "all_files = glob.glob(os.path.join(path, \"*.csv\"))     # advisable to use os.path.join as this makes concatenation OS independent\n",
    "\n",
    "df_from_each_file = (pd.read_csv(f, index_col=False) for f in all_files)\n",
    "concatenated_df   = pd.concat(df_from_each_file, ignore_index=True)"
   ]
  },
  {
   "cell_type": "code",
   "execution_count": 30,
   "metadata": {},
   "outputs": [],
   "source": [
    "concatenated_df.drop([ 'High', 'Low', 'Open', 'Volume'], axis=1, inplace=True)"
   ]
  },
  {
   "cell_type": "code",
   "execution_count": 31,
   "metadata": {},
   "outputs": [
    {
     "data": {
      "text/html": [
       "<div>\n",
       "<style scoped>\n",
       "    .dataframe tbody tr th:only-of-type {\n",
       "        vertical-align: middle;\n",
       "    }\n",
       "\n",
       "    .dataframe tbody tr th {\n",
       "        vertical-align: top;\n",
       "    }\n",
       "\n",
       "    .dataframe thead th {\n",
       "        text-align: right;\n",
       "    }\n",
       "</style>\n",
       "<table border=\"1\" class=\"dataframe\">\n",
       "  <thead>\n",
       "    <tr style=\"text-align: right;\">\n",
       "      <th></th>\n",
       "      <th>Date</th>\n",
       "      <th>Name</th>\n",
       "      <th>Close</th>\n",
       "      <th>NAV</th>\n",
       "    </tr>\n",
       "  </thead>\n",
       "  <tbody>\n",
       "    <tr>\n",
       "      <th>0</th>\n",
       "      <td>12/01/1995</td>\n",
       "      <td>Allianz Technology Trust Ord</td>\n",
       "      <td>0.1</td>\n",
       "      <td>NaN</td>\n",
       "    </tr>\n",
       "    <tr>\n",
       "      <th>1</th>\n",
       "      <td>12/02/1995</td>\n",
       "      <td>Allianz Technology Trust Ord</td>\n",
       "      <td>0.1</td>\n",
       "      <td>NaN</td>\n",
       "    </tr>\n",
       "    <tr>\n",
       "      <th>2</th>\n",
       "      <td>12/03/1995</td>\n",
       "      <td>Allianz Technology Trust Ord</td>\n",
       "      <td>0.1</td>\n",
       "      <td>NaN</td>\n",
       "    </tr>\n",
       "    <tr>\n",
       "      <th>3</th>\n",
       "      <td>12/04/1995</td>\n",
       "      <td>Allianz Technology Trust Ord</td>\n",
       "      <td>0.1</td>\n",
       "      <td>NaN</td>\n",
       "    </tr>\n",
       "    <tr>\n",
       "      <th>4</th>\n",
       "      <td>12/05/1995</td>\n",
       "      <td>Allianz Technology Trust Ord</td>\n",
       "      <td>0.1</td>\n",
       "      <td>NaN</td>\n",
       "    </tr>\n",
       "    <tr>\n",
       "      <th>...</th>\n",
       "      <td>...</td>\n",
       "      <td>...</td>\n",
       "      <td>...</td>\n",
       "      <td>...</td>\n",
       "    </tr>\n",
       "    <tr>\n",
       "      <th>120970</th>\n",
       "      <td>08/31/2021</td>\n",
       "      <td>Vanguard FTSE Dev Wld ex-UK Eq Idx £ Inc</td>\n",
       "      <td>NaN</td>\n",
       "      <td>426.4283</td>\n",
       "    </tr>\n",
       "    <tr>\n",
       "      <th>120971</th>\n",
       "      <td>09/30/2021</td>\n",
       "      <td>Vanguard FTSE Dev Wld ex-UK Eq Idx £ Inc</td>\n",
       "      <td>NaN</td>\n",
       "      <td>416.8979</td>\n",
       "    </tr>\n",
       "    <tr>\n",
       "      <th>120972</th>\n",
       "      <td>10/31/2021</td>\n",
       "      <td>Vanguard FTSE Dev Wld ex-UK Eq Idx £ Inc</td>\n",
       "      <td>NaN</td>\n",
       "      <td>432.7863</td>\n",
       "    </tr>\n",
       "    <tr>\n",
       "      <th>120973</th>\n",
       "      <td>11/30/2021</td>\n",
       "      <td>Vanguard FTSE Dev Wld ex-UK Eq Idx £ Inc</td>\n",
       "      <td>NaN</td>\n",
       "      <td>432.8787</td>\n",
       "    </tr>\n",
       "    <tr>\n",
       "      <th>120974</th>\n",
       "      <td>12/31/2021</td>\n",
       "      <td>Vanguard FTSE Dev Wld ex-UK Eq Idx £ Inc</td>\n",
       "      <td>NaN</td>\n",
       "      <td>440.8873</td>\n",
       "    </tr>\n",
       "  </tbody>\n",
       "</table>\n",
       "<p>120975 rows × 4 columns</p>\n",
       "</div>"
      ],
      "text/plain": [
       "              Date                                      Name  Close       NAV\n",
       "0       12/01/1995              Allianz Technology Trust Ord    0.1       NaN\n",
       "1       12/02/1995              Allianz Technology Trust Ord    0.1       NaN\n",
       "2       12/03/1995              Allianz Technology Trust Ord    0.1       NaN\n",
       "3       12/04/1995              Allianz Technology Trust Ord    0.1       NaN\n",
       "4       12/05/1995              Allianz Technology Trust Ord    0.1       NaN\n",
       "...            ...                                       ...    ...       ...\n",
       "120970  08/31/2021  Vanguard FTSE Dev Wld ex-UK Eq Idx £ Inc    NaN  426.4283\n",
       "120971  09/30/2021  Vanguard FTSE Dev Wld ex-UK Eq Idx £ Inc    NaN  416.8979\n",
       "120972  10/31/2021  Vanguard FTSE Dev Wld ex-UK Eq Idx £ Inc    NaN  432.7863\n",
       "120973  11/30/2021  Vanguard FTSE Dev Wld ex-UK Eq Idx £ Inc    NaN  432.8787\n",
       "120974  12/31/2021  Vanguard FTSE Dev Wld ex-UK Eq Idx £ Inc    NaN  440.8873\n",
       "\n",
       "[120975 rows x 4 columns]"
      ]
     },
     "execution_count": 31,
     "metadata": {},
     "output_type": "execute_result"
    }
   ],
   "source": [
    "concatenated_df"
   ]
  }
 ],
 "metadata": {
  "interpreter": {
   "hash": "41e2953d7975b11ba52acd54a0402d4c01af6c1ef4291ed75078867906c594d9"
  },
  "kernelspec": {
   "display_name": "Python 3.9.7 64-bit (conda)",
   "language": "python",
   "name": "python3"
  },
  "language_info": {
   "codemirror_mode": {
    "name": "ipython",
    "version": 3
   },
   "file_extension": ".py",
   "mimetype": "text/x-python",
   "name": "python",
   "nbconvert_exporter": "python",
   "pygments_lexer": "ipython3",
   "version": "3.9.7"
  },
  "orig_nbformat": 4
 },
 "nbformat": 4,
 "nbformat_minor": 2
}
